{
  "cells": [
    {
      "cell_type": "markdown",
      "metadata": {
        "id": "view-in-github",
        "colab_type": "text"
      },
      "source": [
        "<a href=\"https://colab.research.google.com/github/Nethmi-Randi/AudioVideoSentimentAnalysis/blob/main/imageSentimentAnalysisModel.ipynb\" target=\"_parent\"><img src=\"https://colab.research.google.com/assets/colab-badge.svg\" alt=\"Open In Colab\"/></a>"
      ]
    },
    {
      "cell_type": "code",
      "execution_count": null,
      "metadata": {
        "colab": {
          "base_uri": "https://localhost:8080/",
          "height": 90
        },
        "id": "lWeKUO6Su2jz",
        "outputId": "37bc3330-628a-4e11-a020-23917ca00957"
      },
      "outputs": [
        {
          "output_type": "display_data",
          "data": {
            "text/plain": [
              "<IPython.core.display.HTML object>"
            ],
            "text/html": [
              "\n",
              "     <input type=\"file\" id=\"files-a895eef7-dd3d-4f27-bfc6-1aa858c86714\" name=\"files[]\" multiple disabled\n",
              "        style=\"border:none\" />\n",
              "     <output id=\"result-a895eef7-dd3d-4f27-bfc6-1aa858c86714\">\n",
              "      Upload widget is only available when the cell has been executed in the\n",
              "      current browser session. Please rerun this cell to enable.\n",
              "      </output>\n",
              "      <script>// Copyright 2017 Google LLC\n",
              "//\n",
              "// Licensed under the Apache License, Version 2.0 (the \"License\");\n",
              "// you may not use this file except in compliance with the License.\n",
              "// You may obtain a copy of the License at\n",
              "//\n",
              "//      http://www.apache.org/licenses/LICENSE-2.0\n",
              "//\n",
              "// Unless required by applicable law or agreed to in writing, software\n",
              "// distributed under the License is distributed on an \"AS IS\" BASIS,\n",
              "// WITHOUT WARRANTIES OR CONDITIONS OF ANY KIND, either express or implied.\n",
              "// See the License for the specific language governing permissions and\n",
              "// limitations under the License.\n",
              "\n",
              "/**\n",
              " * @fileoverview Helpers for google.colab Python module.\n",
              " */\n",
              "(function(scope) {\n",
              "function span(text, styleAttributes = {}) {\n",
              "  const element = document.createElement('span');\n",
              "  element.textContent = text;\n",
              "  for (const key of Object.keys(styleAttributes)) {\n",
              "    element.style[key] = styleAttributes[key];\n",
              "  }\n",
              "  return element;\n",
              "}\n",
              "\n",
              "// Max number of bytes which will be uploaded at a time.\n",
              "const MAX_PAYLOAD_SIZE = 100 * 1024;\n",
              "\n",
              "function _uploadFiles(inputId, outputId) {\n",
              "  const steps = uploadFilesStep(inputId, outputId);\n",
              "  const outputElement = document.getElementById(outputId);\n",
              "  // Cache steps on the outputElement to make it available for the next call\n",
              "  // to uploadFilesContinue from Python.\n",
              "  outputElement.steps = steps;\n",
              "\n",
              "  return _uploadFilesContinue(outputId);\n",
              "}\n",
              "\n",
              "// This is roughly an async generator (not supported in the browser yet),\n",
              "// where there are multiple asynchronous steps and the Python side is going\n",
              "// to poll for completion of each step.\n",
              "// This uses a Promise to block the python side on completion of each step,\n",
              "// then passes the result of the previous step as the input to the next step.\n",
              "function _uploadFilesContinue(outputId) {\n",
              "  const outputElement = document.getElementById(outputId);\n",
              "  const steps = outputElement.steps;\n",
              "\n",
              "  const next = steps.next(outputElement.lastPromiseValue);\n",
              "  return Promise.resolve(next.value.promise).then((value) => {\n",
              "    // Cache the last promise value to make it available to the next\n",
              "    // step of the generator.\n",
              "    outputElement.lastPromiseValue = value;\n",
              "    return next.value.response;\n",
              "  });\n",
              "}\n",
              "\n",
              "/**\n",
              " * Generator function which is called between each async step of the upload\n",
              " * process.\n",
              " * @param {string} inputId Element ID of the input file picker element.\n",
              " * @param {string} outputId Element ID of the output display.\n",
              " * @return {!Iterable<!Object>} Iterable of next steps.\n",
              " */\n",
              "function* uploadFilesStep(inputId, outputId) {\n",
              "  const inputElement = document.getElementById(inputId);\n",
              "  inputElement.disabled = false;\n",
              "\n",
              "  const outputElement = document.getElementById(outputId);\n",
              "  outputElement.innerHTML = '';\n",
              "\n",
              "  const pickedPromise = new Promise((resolve) => {\n",
              "    inputElement.addEventListener('change', (e) => {\n",
              "      resolve(e.target.files);\n",
              "    });\n",
              "  });\n",
              "\n",
              "  const cancel = document.createElement('button');\n",
              "  inputElement.parentElement.appendChild(cancel);\n",
              "  cancel.textContent = 'Cancel upload';\n",
              "  const cancelPromise = new Promise((resolve) => {\n",
              "    cancel.onclick = () => {\n",
              "      resolve(null);\n",
              "    };\n",
              "  });\n",
              "\n",
              "  // Wait for the user to pick the files.\n",
              "  const files = yield {\n",
              "    promise: Promise.race([pickedPromise, cancelPromise]),\n",
              "    response: {\n",
              "      action: 'starting',\n",
              "    }\n",
              "  };\n",
              "\n",
              "  cancel.remove();\n",
              "\n",
              "  // Disable the input element since further picks are not allowed.\n",
              "  inputElement.disabled = true;\n",
              "\n",
              "  if (!files) {\n",
              "    return {\n",
              "      response: {\n",
              "        action: 'complete',\n",
              "      }\n",
              "    };\n",
              "  }\n",
              "\n",
              "  for (const file of files) {\n",
              "    const li = document.createElement('li');\n",
              "    li.append(span(file.name, {fontWeight: 'bold'}));\n",
              "    li.append(span(\n",
              "        `(${file.type || 'n/a'}) - ${file.size} bytes, ` +\n",
              "        `last modified: ${\n",
              "            file.lastModifiedDate ? file.lastModifiedDate.toLocaleDateString() :\n",
              "                                    'n/a'} - `));\n",
              "    const percent = span('0% done');\n",
              "    li.appendChild(percent);\n",
              "\n",
              "    outputElement.appendChild(li);\n",
              "\n",
              "    const fileDataPromise = new Promise((resolve) => {\n",
              "      const reader = new FileReader();\n",
              "      reader.onload = (e) => {\n",
              "        resolve(e.target.result);\n",
              "      };\n",
              "      reader.readAsArrayBuffer(file);\n",
              "    });\n",
              "    // Wait for the data to be ready.\n",
              "    let fileData = yield {\n",
              "      promise: fileDataPromise,\n",
              "      response: {\n",
              "        action: 'continue',\n",
              "      }\n",
              "    };\n",
              "\n",
              "    // Use a chunked sending to avoid message size limits. See b/62115660.\n",
              "    let position = 0;\n",
              "    do {\n",
              "      const length = Math.min(fileData.byteLength - position, MAX_PAYLOAD_SIZE);\n",
              "      const chunk = new Uint8Array(fileData, position, length);\n",
              "      position += length;\n",
              "\n",
              "      const base64 = btoa(String.fromCharCode.apply(null, chunk));\n",
              "      yield {\n",
              "        response: {\n",
              "          action: 'append',\n",
              "          file: file.name,\n",
              "          data: base64,\n",
              "        },\n",
              "      };\n",
              "\n",
              "      let percentDone = fileData.byteLength === 0 ?\n",
              "          100 :\n",
              "          Math.round((position / fileData.byteLength) * 100);\n",
              "      percent.textContent = `${percentDone}% done`;\n",
              "\n",
              "    } while (position < fileData.byteLength);\n",
              "  }\n",
              "\n",
              "  // All done.\n",
              "  yield {\n",
              "    response: {\n",
              "      action: 'complete',\n",
              "    }\n",
              "  };\n",
              "}\n",
              "\n",
              "scope.google = scope.google || {};\n",
              "scope.google.colab = scope.google.colab || {};\n",
              "scope.google.colab._files = {\n",
              "  _uploadFiles,\n",
              "  _uploadFilesContinue,\n",
              "};\n",
              "})(self);\n",
              "</script> "
            ]
          },
          "metadata": {}
        },
        {
          "output_type": "stream",
          "name": "stdout",
          "text": [
            "Saving archive.zip to archive.zip\n",
            "User uploaded file \"archive.zip\" with length \"63252113\" bytes\n"
          ]
        }
      ],
      "source": [
        "from google.colab import files\n",
        "uploaded = files.upload()\n",
        "\n",
        "for fn in uploaded.keys():\n",
        "  print('User uploaded file \"{name}\" with length \"{length}\" bytes'.format(\n",
        "      name=fn, length=len(uploaded[fn])))"
      ]
    },
    {
      "cell_type": "code",
      "execution_count": null,
      "metadata": {
        "id": "LJQFGN-Cvr4N",
        "colab": {
          "base_uri": "https://localhost:8080/"
        },
        "outputId": "d5203f3d-172f-4288-8bc6-723234980159"
      },
      "outputs": [
        {
          "output_type": "stream",
          "name": "stdout",
          "text": [
            "Done\n"
          ]
        }
      ],
      "source": [
        "from zipfile import ZipFile\n",
        "file_name = \"archive.zip\"\n",
        "\n",
        "with ZipFile(file_name, 'r') as zip:\n",
        "  zip.extractall()\n",
        "  print(\"Done\")"
      ]
    },
    {
      "cell_type": "code",
      "execution_count": null,
      "metadata": {
        "id": "72jWX8HJvvp7"
      },
      "outputs": [],
      "source": [
        "import numpy as np\n",
        "import cv2\n",
        "from keras.models import Sequential\n",
        "from keras.layers import Dense, Dropout, Flatten\n",
        "from keras.layers import Conv2D\n",
        "from keras.optimizers import Adam\n",
        "from keras.layers import MaxPooling2D\n",
        "from keras.preprocessing.image import ImageDataGenerator\n",
        "from keras.optimizers import Adam\n",
        "from keras.layers import BatchNormalization, LeakyReLU\n",
        "from tensorflow.keras.layers import Conv2D, BatchNormalization, ReLU, MaxPooling2D, Dropout, GlobalAveragePooling2D, Dense, Activation\n",
        "import tensorflow as tf\n",
        "from tensorflow.keras.layers import Input, Dense, Dropout, Flatten, Conv2D, BatchNormalization, Activation, MaxPooling2D, GlobalAveragePooling2D, Add, concatenate\n",
        "from tensorflow.keras.models import Model\n",
        "import os\n",
        "import shutil"
      ]
    },
    {
      "cell_type": "code",
      "source": [
        "# Data directories\n",
        "train_dir = 'train'\n",
        "test_dir = 'test'\n",
        "val_data_dir = 'val_data'\n",
        "if not os.path.exists(val_data_dir):\n",
        "    os.makedirs(val_data_dir)\n",
        "\n",
        "# Function to split train data into training and validation sets (10% validation)\n",
        "def split_train_val(train_dir, val_dir, val_split=0.2):\n",
        "    for class_dir in os.listdir(train_dir):\n",
        "        class_path = os.path.join(train_dir, class_dir)\n",
        "        val_class_path = os.path.join(val_dir, class_dir)\n",
        "        if not os.path.exists(val_class_path):\n",
        "            os.makedirs(val_class_path)\n",
        "\n",
        "        files = os.listdir(class_path)\n",
        "        np.random.shuffle(files)\n",
        "        val_size = int(len(files) * val_split)\n",
        "        val_files = files[:val_size]\n",
        "\n",
        "        for val_file in val_files:\n",
        "            src_path = os.path.join(class_path, val_file)\n",
        "            dst_path = os.path.join(val_class_path, val_file)\n",
        "            shutil.move(src_path, dst_path)\n",
        "\n",
        "split_train_val(train_dir, val_data_dir, val_split=0.2)\n",
        "\n",
        "# Data generators\n",
        "train_datagen = ImageDataGenerator(rescale=1./255)\n",
        "val_datagen = ImageDataGenerator(rescale=1./255)\n",
        "test_datagen = ImageDataGenerator(rescale=1./255)\n",
        "\n",
        "train_generator = train_datagen.flow_from_directory(\n",
        "    train_dir,\n",
        "    target_size=(48, 48),\n",
        "    batch_size=64,\n",
        "    color_mode=\"grayscale\",\n",
        "    class_mode='categorical')\n",
        "\n",
        "validation_generator = val_datagen.flow_from_directory(\n",
        "    val_data_dir,\n",
        "    target_size=(48, 48),\n",
        "    batch_size=64,\n",
        "    color_mode=\"grayscale\",\n",
        "    class_mode='categorical')\n",
        "\n",
        "test_generator = test_datagen.flow_from_directory(\n",
        "    test_dir,\n",
        "    target_size=(48, 48),\n",
        "    batch_size=64,\n",
        "    color_mode=\"grayscale\",\n",
        "    class_mode='categorical')\n",
        "\n",
        "print(f'Found {train_generator.samples} images belonging to {train_generator.num_classes} classes in the training set.')\n",
        "print(f'Found {validation_generator.samples} images belonging to {validation_generator.num_classes} classes in the validation set.')\n",
        "print(f'Found {test_generator.samples} images belonging to {test_generator.num_classes} classes in the test set.')"
      ],
      "metadata": {
        "id": "aWr2RiagA7Ug",
        "colab": {
          "base_uri": "https://localhost:8080/"
        },
        "outputId": "04729be6-7e11-437a-a672-302056c199ec"
      },
      "execution_count": null,
      "outputs": [
        {
          "output_type": "stream",
          "name": "stdout",
          "text": [
            "Found 22968 images belonging to 7 classes.\n",
            "Found 5741 images belonging to 7 classes.\n",
            "Found 7178 images belonging to 7 classes.\n",
            "Found 22968 images belonging to 7 classes in the training set.\n",
            "Found 5741 images belonging to 7 classes in the validation set.\n",
            "Found 7178 images belonging to 7 classes in the test set.\n"
          ]
        }
      ]
    },
    {
      "cell_type": "markdown",
      "source": [
        "Proposed CNN Architecture with advanced deep learning techniques"
      ],
      "metadata": {
        "id": "prd9fw_U7PA-"
      }
    },
    {
      "cell_type": "code",
      "source": [
        "\n",
        "# Squeeze-and-Excitation block\n",
        "def squeeze_excite_block(input_tensor, ratio=16):\n",
        "    filters = input_tensor.shape[-1]\n",
        "    se = GlobalAveragePooling2D()(input_tensor)\n",
        "    se = Dense(filters // ratio, activation='relu')(se)\n",
        "    se = Dense(filters, activation='sigmoid')(se)\n",
        "    se = tf.keras.layers.multiply([input_tensor, se])\n",
        "    return se\n",
        "\n",
        "# Residual block\n",
        "def residual_block(x, filters, kernel_size=3):\n",
        "    res = Conv2D(filters, kernel_size, padding='same')(x)\n",
        "    res = BatchNormalization()(res)\n",
        "    res = Activation('relu')(res)\n",
        "    res = Conv2D(filters, kernel_size, padding='same')(res)\n",
        "    res = BatchNormalization()(res)\n",
        "    x = Add()([x, res])\n",
        "    return Activation('relu')(x)\n",
        "\n",
        "# Inception module\n",
        "def inception_module(x, filters):\n",
        "    conv1 = Conv2D(filters, (1, 1), padding='same', activation='relu')(x)\n",
        "    conv3 = Conv2D(filters, (3, 3), padding='same', activation='relu')(x)\n",
        "    conv5 = Conv2D(filters, (5, 5), padding='same', activation='relu')(x)\n",
        "    return concatenate([conv1, conv3, conv5], axis=-1)\n",
        "\n",
        "input_shape = (48, 48, 1)\n",
        "inputs = Input(shape=input_shape)\n",
        "\n",
        "emotion_model = Sequential()\n",
        "\n",
        "# First Convolutional Block with Residual Connection\n",
        "x = Conv2D(64, (3, 3), padding='same')(inputs)\n",
        "x = BatchNormalization()(x)\n",
        "x = Activation('relu')(x)\n",
        "x = Conv2D(64, (3, 3), padding='same')(x)\n",
        "x = BatchNormalization()(x)\n",
        "x = Add()([inputs, x])\n",
        "x = MaxPooling2D(pool_size=(2, 2))(x)\n",
        "x = Dropout(0.25)(x)\n",
        "# Second Convolutional Block with Attention Mechanism\n",
        "x = Conv2D(128, (3, 3), padding='same')(x)\n",
        "x = BatchNormalization()(x)\n",
        "x = Activation('relu')(x)\n",
        "x = Conv2D(128, (3, 3), padding='same')(x)\n",
        "x = BatchNormalization()(x)\n",
        "x = squeeze_excite_block(x)\n",
        "x = MaxPooling2D(pool_size=(2, 2))(x)\n",
        "x = Dropout(0.25)(x)\n",
        "# Third Convolutional Block with Inception Module\n",
        "x = inception_module(x, 128)\n",
        "x = BatchNormalization()(x)\n",
        "x = Activation('relu')(x)\n",
        "x = MaxPooling2D(pool_size=(2, 2))(x)\n",
        "x = Dropout(0.25)(x)\n",
        "# Fourth Convolutional Block with Residual and Attention Mechanism\n",
        "x = Conv2D(256, (3, 3), padding='same')(x)\n",
        "x = BatchNormalization()(x)\n",
        "x = Activation('relu')(x)\n",
        "x = Conv2D(256, (3, 3), padding='same')(x)\n",
        "x = BatchNormalization()(x)\n",
        "x = Add()([x, residual_block(x, 256)])\n",
        "x = tf.keras.layers.Attention()([x, x])\n",
        "x = MaxPooling2D(pool_size=(2, 2))(x)\n",
        "x = Dropout(0.25)(x)\n",
        "# Global Average Pooling and Fully Connected Layers\n",
        "x = GlobalAveragePooling2D()(x)\n",
        "x = Dense(256)(x)\n",
        "x = BatchNormalization()(x)\n",
        "x = Dropout(0.5)(x)\n",
        "x = Activation('relu')(x)\n",
        "x = Dense(512)(x)\n",
        "x = BatchNormalization()(x)\n",
        "x = Dropout(0.5)(x)\n",
        "x = Activation('relu')(x)\n",
        "outputs = Dense(7, activation='softmax')(x)\n",
        "\n",
        "emotion_model = Model(inputs, outputs)\n"
      ],
      "metadata": {
        "id": "4Z6HSCkcA7E7"
      },
      "execution_count": null,
      "outputs": []
    },
    {
      "cell_type": "code",
      "execution_count": null,
      "metadata": {
        "id": "KsS94C7uwLCN",
        "colab": {
          "base_uri": "https://localhost:8080/"
        },
        "outputId": "4a8738ea-0671-441a-ddbb-3b7c44406b3f",
        "collapsed": true
      },
      "outputs": [
        {
          "output_type": "stream",
          "name": "stdout",
          "text": [
            "Epoch 1/100\n"
          ]
        },
        {
          "output_type": "stream",
          "name": "stderr",
          "text": [
            "<ipython-input-6-8da81a34abb8>:6: UserWarning: `Model.fit_generator` is deprecated and will be removed in a future version. Please use `Model.fit`, which supports generators.\n",
            "  emotion_model_info = emotion_model.fit_generator(\n"
          ]
        },
        {
          "output_type": "stream",
          "name": "stdout",
          "text": [
            "448/448 [==============================] - 29s 42ms/step - loss: 2.1946 - accuracy: 0.2105 - val_loss: 1.9036 - val_accuracy: 0.2472\n",
            "Epoch 2/100\n",
            "448/448 [==============================] - 18s 40ms/step - loss: 2.0249 - accuracy: 0.2448 - val_loss: 1.7741 - val_accuracy: 0.3023\n",
            "Epoch 3/100\n",
            "448/448 [==============================] - 18s 39ms/step - loss: 1.8877 - accuracy: 0.2872 - val_loss: 1.6717 - val_accuracy: 0.3417\n",
            "Epoch 4/100\n",
            "448/448 [==============================] - 18s 41ms/step - loss: 1.7703 - accuracy: 0.3283 - val_loss: 1.6205 - val_accuracy: 0.3677\n",
            "Epoch 5/100\n",
            "448/448 [==============================] - 18s 41ms/step - loss: 1.6642 - accuracy: 0.3659 - val_loss: 1.5320 - val_accuracy: 0.3997\n",
            "Epoch 6/100\n",
            "448/448 [==============================] - 19s 42ms/step - loss: 1.5758 - accuracy: 0.3963 - val_loss: 1.4394 - val_accuracy: 0.4372\n",
            "Epoch 7/100\n",
            "448/448 [==============================] - 18s 40ms/step - loss: 1.5135 - accuracy: 0.4191 - val_loss: 1.4309 - val_accuracy: 0.4396\n",
            "Epoch 8/100\n",
            "448/448 [==============================] - 19s 42ms/step - loss: 1.4523 - accuracy: 0.4424 - val_loss: 1.3746 - val_accuracy: 0.4672\n",
            "Epoch 9/100\n",
            "448/448 [==============================] - 18s 40ms/step - loss: 1.4040 - accuracy: 0.4585 - val_loss: 1.3173 - val_accuracy: 0.4879\n",
            "Epoch 10/100\n",
            "448/448 [==============================] - 19s 42ms/step - loss: 1.3593 - accuracy: 0.4754 - val_loss: 1.2588 - val_accuracy: 0.5146\n",
            "Epoch 11/100\n",
            "448/448 [==============================] - 18s 40ms/step - loss: 1.3229 - accuracy: 0.4932 - val_loss: 1.2545 - val_accuracy: 0.5155\n",
            "Epoch 12/100\n",
            "448/448 [==============================] - 19s 42ms/step - loss: 1.2832 - accuracy: 0.5108 - val_loss: 1.2198 - val_accuracy: 0.5266\n",
            "Epoch 13/100\n",
            "448/448 [==============================] - 18s 40ms/step - loss: 1.2523 - accuracy: 0.5225 - val_loss: 1.1943 - val_accuracy: 0.5375\n",
            "Epoch 14/100\n",
            "448/448 [==============================] - 21s 47ms/step - loss: 1.2221 - accuracy: 0.5340 - val_loss: 1.1701 - val_accuracy: 0.5519\n",
            "Epoch 15/100\n",
            "448/448 [==============================] - 19s 42ms/step - loss: 1.1920 - accuracy: 0.5478 - val_loss: 1.1541 - val_accuracy: 0.5568\n",
            "Epoch 16/100\n",
            "448/448 [==============================] - 18s 40ms/step - loss: 1.1716 - accuracy: 0.5548 - val_loss: 1.1396 - val_accuracy: 0.5571\n",
            "Epoch 17/100\n",
            "448/448 [==============================] - 18s 41ms/step - loss: 1.1485 - accuracy: 0.5639 - val_loss: 1.1765 - val_accuracy: 0.5506\n",
            "Epoch 18/100\n",
            "448/448 [==============================] - 19s 42ms/step - loss: 1.1306 - accuracy: 0.5735 - val_loss: 1.1457 - val_accuracy: 0.5569\n",
            "Epoch 19/100\n",
            "448/448 [==============================] - 18s 40ms/step - loss: 1.1056 - accuracy: 0.5802 - val_loss: 1.1484 - val_accuracy: 0.5626\n",
            "Epoch 20/100\n",
            "448/448 [==============================] - 19s 42ms/step - loss: 1.0795 - accuracy: 0.5928 - val_loss: 1.1192 - val_accuracy: 0.5678\n",
            "Epoch 21/100\n",
            "448/448 [==============================] - 18s 40ms/step - loss: 1.0660 - accuracy: 0.5946 - val_loss: 1.1248 - val_accuracy: 0.5670\n",
            "Epoch 22/100\n",
            "448/448 [==============================] - 19s 42ms/step - loss: 1.0394 - accuracy: 0.6053 - val_loss: 1.0964 - val_accuracy: 0.5827\n",
            "Epoch 23/100\n",
            "448/448 [==============================] - 18s 40ms/step - loss: 1.0169 - accuracy: 0.6175 - val_loss: 1.0687 - val_accuracy: 0.5928\n",
            "Epoch 24/100\n",
            "448/448 [==============================] - 19s 41ms/step - loss: 0.9987 - accuracy: 0.6235 - val_loss: 1.0564 - val_accuracy: 0.6013\n",
            "Epoch 25/100\n",
            "448/448 [==============================] - 18s 40ms/step - loss: 0.9816 - accuracy: 0.6293 - val_loss: 1.0308 - val_accuracy: 0.6095\n",
            "Epoch 26/100\n",
            "448/448 [==============================] - 19s 42ms/step - loss: 0.9636 - accuracy: 0.6379 - val_loss: 1.0747 - val_accuracy: 0.5984\n",
            "Epoch 27/100\n",
            "448/448 [==============================] - 18s 40ms/step - loss: 0.9445 - accuracy: 0.6429 - val_loss: 1.0447 - val_accuracy: 0.6062\n",
            "Epoch 28/100\n",
            "448/448 [==============================] - 21s 47ms/step - loss: 0.9219 - accuracy: 0.6556 - val_loss: 1.0776 - val_accuracy: 0.5991\n",
            "Epoch 29/100\n",
            "448/448 [==============================] - 18s 41ms/step - loss: 0.9057 - accuracy: 0.6584 - val_loss: 1.0170 - val_accuracy: 0.6194\n",
            "Epoch 30/100\n",
            "448/448 [==============================] - 18s 41ms/step - loss: 0.8865 - accuracy: 0.6698 - val_loss: 1.0434 - val_accuracy: 0.6165\n",
            "Epoch 31/100\n",
            "448/448 [==============================] - 18s 40ms/step - loss: 0.8683 - accuracy: 0.6739 - val_loss: 0.9983 - val_accuracy: 0.6285\n",
            "Epoch 32/100\n",
            "448/448 [==============================] - 19s 42ms/step - loss: 0.8465 - accuracy: 0.6806 - val_loss: 0.9994 - val_accuracy: 0.6332\n",
            "Epoch 33/100\n",
            "448/448 [==============================] - 18s 40ms/step - loss: 0.8224 - accuracy: 0.6889 - val_loss: 1.0288 - val_accuracy: 0.6261\n",
            "Epoch 34/100\n",
            "448/448 [==============================] - 19s 41ms/step - loss: 0.8069 - accuracy: 0.6997 - val_loss: 1.0499 - val_accuracy: 0.6244\n",
            "Epoch 35/100\n",
            "448/448 [==============================] - 18s 40ms/step - loss: 0.7873 - accuracy: 0.7077 - val_loss: 1.0509 - val_accuracy: 0.6190\n",
            "Epoch 36/100\n",
            "448/448 [==============================] - 18s 41ms/step - loss: 0.7762 - accuracy: 0.7106 - val_loss: 1.0383 - val_accuracy: 0.6268\n",
            "Epoch 37/100\n",
            "448/448 [==============================] - 18s 40ms/step - loss: 0.7614 - accuracy: 0.7181 - val_loss: 1.0394 - val_accuracy: 0.6246\n",
            "Epoch 38/100\n",
            "448/448 [==============================] - 21s 46ms/step - loss: 0.7456 - accuracy: 0.7238 - val_loss: 1.0636 - val_accuracy: 0.6217\n",
            "Epoch 39/100\n",
            "448/448 [==============================] - 18s 40ms/step - loss: 0.7253 - accuracy: 0.7294 - val_loss: 1.0327 - val_accuracy: 0.6335\n",
            "Epoch 40/100\n",
            "448/448 [==============================] - 20s 44ms/step - loss: 0.7063 - accuracy: 0.7352 - val_loss: 1.0796 - val_accuracy: 0.6187\n",
            "Epoch 41/100\n",
            "448/448 [==============================] - 18s 40ms/step - loss: 0.6942 - accuracy: 0.7421 - val_loss: 1.0505 - val_accuracy: 0.6267\n",
            "Epoch 42/100\n",
            "448/448 [==============================] - 18s 41ms/step - loss: 0.6711 - accuracy: 0.7486 - val_loss: 1.0895 - val_accuracy: 0.6222\n",
            "Epoch 43/100\n",
            "448/448 [==============================] - 18s 40ms/step - loss: 0.6578 - accuracy: 0.7580 - val_loss: 1.0970 - val_accuracy: 0.6237\n",
            "Epoch 44/100\n",
            "448/448 [==============================] - 18s 41ms/step - loss: 0.6427 - accuracy: 0.7625 - val_loss: 1.0649 - val_accuracy: 0.6398\n",
            "Epoch 45/100\n",
            "448/448 [==============================] - 18s 40ms/step - loss: 0.6241 - accuracy: 0.7685 - val_loss: 1.0753 - val_accuracy: 0.6395\n",
            "Epoch 46/100\n",
            "448/448 [==============================] - 19s 42ms/step - loss: 0.6192 - accuracy: 0.7729 - val_loss: 1.0695 - val_accuracy: 0.6455\n",
            "Epoch 47/100\n",
            "448/448 [==============================] - 18s 40ms/step - loss: 0.6021 - accuracy: 0.7764 - val_loss: 1.1073 - val_accuracy: 0.6282\n",
            "Epoch 48/100\n",
            "448/448 [==============================] - 18s 40ms/step - loss: 0.5828 - accuracy: 0.7864 - val_loss: 1.0599 - val_accuracy: 0.6401\n",
            "Epoch 49/100\n",
            "448/448 [==============================] - 18s 41ms/step - loss: 0.5686 - accuracy: 0.7923 - val_loss: 1.0753 - val_accuracy: 0.6423\n",
            "Epoch 50/100\n",
            "448/448 [==============================] - 18s 41ms/step - loss: 0.5546 - accuracy: 0.7947 - val_loss: 1.1029 - val_accuracy: 0.6426\n",
            "Epoch 51/100\n",
            "448/448 [==============================] - 18s 40ms/step - loss: 0.5398 - accuracy: 0.8025 - val_loss: 1.1240 - val_accuracy: 0.6369\n",
            "Epoch 52/100\n",
            "448/448 [==============================] - 19s 42ms/step - loss: 0.5383 - accuracy: 0.8010 - val_loss: 1.1329 - val_accuracy: 0.6370\n",
            "Epoch 53/100\n",
            "448/448 [==============================] - 18s 41ms/step - loss: 0.5172 - accuracy: 0.8115 - val_loss: 1.0975 - val_accuracy: 0.6388\n",
            "Epoch 54/100\n",
            "448/448 [==============================] - 19s 42ms/step - loss: 0.5089 - accuracy: 0.8136 - val_loss: 1.1994 - val_accuracy: 0.6320\n",
            "Epoch 55/100\n",
            "448/448 [==============================] - 18s 40ms/step - loss: 0.4926 - accuracy: 0.8172 - val_loss: 1.2377 - val_accuracy: 0.6240\n",
            "Epoch 56/100\n",
            "448/448 [==============================] - 19s 42ms/step - loss: 0.4825 - accuracy: 0.8205 - val_loss: 1.1234 - val_accuracy: 0.6416\n",
            "Epoch 57/100\n",
            "448/448 [==============================] - 18s 41ms/step - loss: 0.4767 - accuracy: 0.8271 - val_loss: 1.1408 - val_accuracy: 0.6350\n",
            "Epoch 58/100\n",
            "448/448 [==============================] - 19s 41ms/step - loss: 0.4576 - accuracy: 0.8323 - val_loss: 1.1591 - val_accuracy: 0.6452\n",
            "Epoch 59/100\n",
            "448/448 [==============================] - 18s 40ms/step - loss: 0.4649 - accuracy: 0.8303 - val_loss: 1.1564 - val_accuracy: 0.6417\n",
            "Epoch 60/100\n",
            "448/448 [==============================] - 19s 42ms/step - loss: 0.4471 - accuracy: 0.8376 - val_loss: 1.1651 - val_accuracy: 0.6311\n",
            "Epoch 61/100\n",
            "448/448 [==============================] - 18s 40ms/step - loss: 0.4294 - accuracy: 0.8444 - val_loss: 1.1700 - val_accuracy: 0.6433\n",
            "Epoch 62/100\n",
            "448/448 [==============================] - 19s 42ms/step - loss: 0.4176 - accuracy: 0.8485 - val_loss: 1.2966 - val_accuracy: 0.6112\n",
            "Epoch 63/100\n",
            "448/448 [==============================] - 18s 40ms/step - loss: 0.4190 - accuracy: 0.8480 - val_loss: 1.2565 - val_accuracy: 0.6398\n",
            "Epoch 64/100\n",
            "448/448 [==============================] - 21s 47ms/step - loss: 0.4070 - accuracy: 0.8523 - val_loss: 1.2364 - val_accuracy: 0.6405\n",
            "Epoch 65/100\n",
            "448/448 [==============================] - 18s 40ms/step - loss: 0.4002 - accuracy: 0.8565 - val_loss: 1.2380 - val_accuracy: 0.6408\n",
            "Epoch 66/100\n",
            "448/448 [==============================] - 19s 42ms/step - loss: 0.3895 - accuracy: 0.8587 - val_loss: 1.3220 - val_accuracy: 0.6445\n",
            "Epoch 67/100\n",
            "448/448 [==============================] - 18s 40ms/step - loss: 0.3849 - accuracy: 0.8590 - val_loss: 1.2289 - val_accuracy: 0.6350\n",
            "Epoch 68/100\n",
            "448/448 [==============================] - 19s 42ms/step - loss: 0.3803 - accuracy: 0.8638 - val_loss: 1.2390 - val_accuracy: 0.6366\n",
            "Epoch 69/100\n",
            "448/448 [==============================] - 18s 40ms/step - loss: 0.3561 - accuracy: 0.8721 - val_loss: 1.2705 - val_accuracy: 0.6422\n",
            "Epoch 70/100\n",
            "448/448 [==============================] - 18s 40ms/step - loss: 0.3608 - accuracy: 0.8708 - val_loss: 1.2975 - val_accuracy: 0.6380\n",
            "Epoch 71/100\n",
            "448/448 [==============================] - 19s 42ms/step - loss: 0.3500 - accuracy: 0.8725 - val_loss: 1.3490 - val_accuracy: 0.6341\n",
            "Epoch 72/100\n",
            "448/448 [==============================] - 18s 41ms/step - loss: 0.3313 - accuracy: 0.8811 - val_loss: 1.2957 - val_accuracy: 0.6318\n",
            "Epoch 73/100\n",
            "448/448 [==============================] - 19s 42ms/step - loss: 0.3378 - accuracy: 0.8775 - val_loss: 1.3096 - val_accuracy: 0.6370\n",
            "Epoch 74/100\n",
            "448/448 [==============================] - 18s 41ms/step - loss: 0.3278 - accuracy: 0.8823 - val_loss: 1.2729 - val_accuracy: 0.6493\n",
            "Epoch 75/100\n",
            "448/448 [==============================] - 19s 42ms/step - loss: 0.3218 - accuracy: 0.8850 - val_loss: 1.2830 - val_accuracy: 0.6445\n",
            "Epoch 76/100\n",
            "448/448 [==============================] - 18s 41ms/step - loss: 0.3192 - accuracy: 0.8842 - val_loss: 1.3036 - val_accuracy: 0.6454\n",
            "Epoch 77/100\n",
            "448/448 [==============================] - 19s 43ms/step - loss: 0.3122 - accuracy: 0.8878 - val_loss: 1.2913 - val_accuracy: 0.6476\n",
            "Epoch 78/100\n",
            "448/448 [==============================] - 18s 40ms/step - loss: 0.3031 - accuracy: 0.8907 - val_loss: 1.3259 - val_accuracy: 0.6413\n",
            "Epoch 79/100\n",
            "448/448 [==============================] - 19s 43ms/step - loss: 0.2984 - accuracy: 0.8942 - val_loss: 1.3090 - val_accuracy: 0.6443\n",
            "Epoch 80/100\n",
            "448/448 [==============================] - 18s 40ms/step - loss: 0.2895 - accuracy: 0.8977 - val_loss: 1.3757 - val_accuracy: 0.6443\n",
            "Epoch 81/100\n",
            "448/448 [==============================] - 19s 42ms/step - loss: 0.2861 - accuracy: 0.8974 - val_loss: 1.3801 - val_accuracy: 0.6388\n",
            "Epoch 82/100\n",
            "448/448 [==============================] - 18s 40ms/step - loss: 0.2835 - accuracy: 0.8984 - val_loss: 1.3691 - val_accuracy: 0.6307\n",
            "Epoch 83/100\n",
            "448/448 [==============================] - 19s 42ms/step - loss: 0.2781 - accuracy: 0.9003 - val_loss: 1.4314 - val_accuracy: 0.6454\n",
            "Epoch 84/100\n",
            "448/448 [==============================] - 18s 40ms/step - loss: 0.2737 - accuracy: 0.9034 - val_loss: 1.4106 - val_accuracy: 0.6392\n",
            "Epoch 85/100\n",
            "448/448 [==============================] - 19s 41ms/step - loss: 0.2793 - accuracy: 0.9010 - val_loss: 1.3594 - val_accuracy: 0.6427\n",
            "Epoch 86/100\n",
            "448/448 [==============================] - 18s 41ms/step - loss: 0.2647 - accuracy: 0.9047 - val_loss: 1.3653 - val_accuracy: 0.6433\n",
            "Epoch 87/100\n",
            "448/448 [==============================] - 19s 42ms/step - loss: 0.2553 - accuracy: 0.9092 - val_loss: 1.3946 - val_accuracy: 0.6466\n",
            "Epoch 88/100\n",
            "448/448 [==============================] - 18s 40ms/step - loss: 0.2492 - accuracy: 0.9119 - val_loss: 1.3879 - val_accuracy: 0.6491\n",
            "Epoch 89/100\n",
            "448/448 [==============================] - 19s 42ms/step - loss: 0.2482 - accuracy: 0.9130 - val_loss: 1.4008 - val_accuracy: 0.6417\n",
            "Epoch 90/100\n",
            "448/448 [==============================] - 18s 40ms/step - loss: 0.2462 - accuracy: 0.9111 - val_loss: 1.4252 - val_accuracy: 0.6521\n",
            "Epoch 91/100\n",
            "448/448 [==============================] - 19s 42ms/step - loss: 0.2417 - accuracy: 0.9132 - val_loss: 1.4075 - val_accuracy: 0.6430\n",
            "Epoch 92/100\n",
            "448/448 [==============================] - 18s 41ms/step - loss: 0.2365 - accuracy: 0.9139 - val_loss: 1.4604 - val_accuracy: 0.6378\n",
            "Epoch 93/100\n",
            "448/448 [==============================] - 19s 42ms/step - loss: 0.2362 - accuracy: 0.9176 - val_loss: 1.4289 - val_accuracy: 0.6392\n",
            "Epoch 94/100\n",
            "448/448 [==============================] - 19s 41ms/step - loss: 0.2312 - accuracy: 0.9166 - val_loss: 1.4653 - val_accuracy: 0.6451\n",
            "Epoch 95/100\n",
            "448/448 [==============================] - 19s 42ms/step - loss: 0.2288 - accuracy: 0.9198 - val_loss: 1.4760 - val_accuracy: 0.6343\n",
            "Epoch 96/100\n",
            "448/448 [==============================] - 18s 41ms/step - loss: 0.2236 - accuracy: 0.9215 - val_loss: 1.4737 - val_accuracy: 0.6399\n",
            "Epoch 97/100\n",
            "448/448 [==============================] - 19s 42ms/step - loss: 0.2215 - accuracy: 0.9217 - val_loss: 1.4756 - val_accuracy: 0.6489\n",
            "Epoch 98/100\n",
            "448/448 [==============================] - 18s 40ms/step - loss: 0.2158 - accuracy: 0.9254 - val_loss: 1.4670 - val_accuracy: 0.6434\n",
            "Epoch 99/100\n",
            "448/448 [==============================] - 21s 47ms/step - loss: 0.2177 - accuracy: 0.9235 - val_loss: 1.5215 - val_accuracy: 0.6455\n",
            "Epoch 100/100\n",
            "448/448 [==============================] - 18s 41ms/step - loss: 0.2084 - accuracy: 0.9265 - val_loss: 1.4634 - val_accuracy: 0.6350\n"
          ]
        }
      ],
      "source": [
        "emotion_model.compile(\n",
        "    loss='categorical_crossentropy',\n",
        "    optimizer=Adam(learning_rate=0.0001),\n",
        "    metrics=['accuracy']\n",
        ")\n",
        "emotion_model_info = emotion_model.fit_generator(\n",
        "        train_generator,\n",
        "        steps_per_epoch=22968 // 64,\n",
        "        epochs=100,\n",
        "        validation_data=validation_generator,\n",
        "        validation_steps=5741 // 64)\n"
      ]
    },
    {
      "cell_type": "code",
      "execution_count": null,
      "metadata": {
        "id": "zcJw8bHtwNye",
        "colab": {
          "base_uri": "https://localhost:8080/"
        },
        "outputId": "10d3ffdb-870c-4918-838a-0d456053bf1e"
      },
      "outputs": [
        {
          "output_type": "stream",
          "name": "stdout",
          "text": [
            "Mounted at /content/drive\n"
          ]
        },
        {
          "output_type": "stream",
          "name": "stderr",
          "text": [
            "/usr/local/lib/python3.10/dist-packages/keras/src/engine/training.py:3103: UserWarning: You are saving your model as an HDF5 file via `model.save()`. This file format is considered legacy. We recommend using instead the native Keras format, e.g. `model.save('my_model.keras')`.\n",
            "  saving_api.save_model(\n"
          ]
        },
        {
          "output_type": "stream",
          "name": "stdout",
          "text": [
            "Model saved successfully at /content/drive/My Drive/models/Image.h5\n"
          ]
        }
      ],
      "source": [
        "#Saving the model\n",
        "\n",
        "from google.colab import drive\n",
        "drive.mount('/content/drive')\n",
        "save_path = '/content/drive/My Drive/models/Image.h5'\n",
        "emotion_model.save(save_path)\n",
        "print(f\"Model saved successfully at {save_path}\")\n"
      ]
    },
    {
      "cell_type": "code",
      "execution_count": null,
      "metadata": {
        "id": "P6IdLb7ewQT0",
        "colab": {
          "base_uri": "https://localhost:8080/"
        },
        "outputId": "c1068251-7acd-49a2-e4d6-e49b26149cd6"
      },
      "outputs": [
        {
          "output_type": "stream",
          "name": "stdout",
          "text": [
            "Drive already mounted at /content/drive; to attempt to forcibly remount, call drive.mount(\"/content/drive\", force_remount=True).\n",
            "Model loaded successfully.\n",
            "Model: \"model\"\n",
            "__________________________________________________________________________________________________\n",
            " Layer (type)                Output Shape                 Param #   Connected to                  \n",
            "==================================================================================================\n",
            " input_1 (InputLayer)        [(None, 48, 48, 1)]          0         []                            \n",
            "                                                                                                  \n",
            " conv2d (Conv2D)             (None, 48, 48, 64)           640       ['input_1[0][0]']             \n",
            "                                                                                                  \n",
            " batch_normalization (Batch  (None, 48, 48, 64)           256       ['conv2d[0][0]']              \n",
            " Normalization)                                                                                   \n",
            "                                                                                                  \n",
            " activation (Activation)     (None, 48, 48, 64)           0         ['batch_normalization[0][0]'] \n",
            "                                                                                                  \n",
            " conv2d_1 (Conv2D)           (None, 48, 48, 64)           36928     ['activation[0][0]']          \n",
            "                                                                                                  \n",
            " batch_normalization_1 (Bat  (None, 48, 48, 64)           256       ['conv2d_1[0][0]']            \n",
            " chNormalization)                                                                                 \n",
            "                                                                                                  \n",
            " add (Add)                   (None, 48, 48, 64)           0         ['input_1[0][0]',             \n",
            "                                                                     'batch_normalization_1[0][0]'\n",
            "                                                                    ]                             \n",
            "                                                                                                  \n",
            " max_pooling2d (MaxPooling2  (None, 24, 24, 64)           0         ['add[0][0]']                 \n",
            " D)                                                                                               \n",
            "                                                                                                  \n",
            " dropout (Dropout)           (None, 24, 24, 64)           0         ['max_pooling2d[0][0]']       \n",
            "                                                                                                  \n",
            " conv2d_2 (Conv2D)           (None, 24, 24, 128)          73856     ['dropout[0][0]']             \n",
            "                                                                                                  \n",
            " batch_normalization_2 (Bat  (None, 24, 24, 128)          512       ['conv2d_2[0][0]']            \n",
            " chNormalization)                                                                                 \n",
            "                                                                                                  \n",
            " activation_1 (Activation)   (None, 24, 24, 128)          0         ['batch_normalization_2[0][0]'\n",
            "                                                                    ]                             \n",
            "                                                                                                  \n",
            " conv2d_3 (Conv2D)           (None, 24, 24, 128)          147584    ['activation_1[0][0]']        \n",
            "                                                                                                  \n",
            " batch_normalization_3 (Bat  (None, 24, 24, 128)          512       ['conv2d_3[0][0]']            \n",
            " chNormalization)                                                                                 \n",
            "                                                                                                  \n",
            " global_average_pooling2d (  (None, 128)                  0         ['batch_normalization_3[0][0]'\n",
            " GlobalAveragePooling2D)                                            ]                             \n",
            "                                                                                                  \n",
            " dense (Dense)               (None, 8)                    1032      ['global_average_pooling2d[0][\n",
            "                                                                    0]']                          \n",
            "                                                                                                  \n",
            " dense_1 (Dense)             (None, 128)                  1152      ['dense[0][0]']               \n",
            "                                                                                                  \n",
            " multiply (Multiply)         (None, 24, 24, 128)          0         ['batch_normalization_3[0][0]'\n",
            "                                                                    , 'dense_1[0][0]']            \n",
            "                                                                                                  \n",
            " max_pooling2d_1 (MaxPoolin  (None, 12, 12, 128)          0         ['multiply[0][0]']            \n",
            " g2D)                                                                                             \n",
            "                                                                                                  \n",
            " dropout_1 (Dropout)         (None, 12, 12, 128)          0         ['max_pooling2d_1[0][0]']     \n",
            "                                                                                                  \n",
            " conv2d_4 (Conv2D)           (None, 12, 12, 128)          16512     ['dropout_1[0][0]']           \n",
            "                                                                                                  \n",
            " conv2d_5 (Conv2D)           (None, 12, 12, 128)          147584    ['dropout_1[0][0]']           \n",
            "                                                                                                  \n",
            " conv2d_6 (Conv2D)           (None, 12, 12, 128)          409728    ['dropout_1[0][0]']           \n",
            "                                                                                                  \n",
            " concatenate (Concatenate)   (None, 12, 12, 384)          0         ['conv2d_4[0][0]',            \n",
            "                                                                     'conv2d_5[0][0]',            \n",
            "                                                                     'conv2d_6[0][0]']            \n",
            "                                                                                                  \n",
            " batch_normalization_4 (Bat  (None, 12, 12, 384)          1536      ['concatenate[0][0]']         \n",
            " chNormalization)                                                                                 \n",
            "                                                                                                  \n",
            " activation_2 (Activation)   (None, 12, 12, 384)          0         ['batch_normalization_4[0][0]'\n",
            "                                                                    ]                             \n",
            "                                                                                                  \n",
            " max_pooling2d_2 (MaxPoolin  (None, 6, 6, 384)            0         ['activation_2[0][0]']        \n",
            " g2D)                                                                                             \n",
            "                                                                                                  \n",
            " dropout_2 (Dropout)         (None, 6, 6, 384)            0         ['max_pooling2d_2[0][0]']     \n",
            "                                                                                                  \n",
            " conv2d_7 (Conv2D)           (None, 6, 6, 256)            884992    ['dropout_2[0][0]']           \n",
            "                                                                                                  \n",
            " batch_normalization_5 (Bat  (None, 6, 6, 256)            1024      ['conv2d_7[0][0]']            \n",
            " chNormalization)                                                                                 \n",
            "                                                                                                  \n",
            " activation_3 (Activation)   (None, 6, 6, 256)            0         ['batch_normalization_5[0][0]'\n",
            "                                                                    ]                             \n",
            "                                                                                                  \n",
            " conv2d_8 (Conv2D)           (None, 6, 6, 256)            590080    ['activation_3[0][0]']        \n",
            "                                                                                                  \n",
            " batch_normalization_6 (Bat  (None, 6, 6, 256)            1024      ['conv2d_8[0][0]']            \n",
            " chNormalization)                                                                                 \n",
            "                                                                                                  \n",
            " conv2d_9 (Conv2D)           (None, 6, 6, 256)            590080    ['batch_normalization_6[0][0]'\n",
            "                                                                    ]                             \n",
            "                                                                                                  \n",
            " batch_normalization_7 (Bat  (None, 6, 6, 256)            1024      ['conv2d_9[0][0]']            \n",
            " chNormalization)                                                                                 \n",
            "                                                                                                  \n",
            " activation_4 (Activation)   (None, 6, 6, 256)            0         ['batch_normalization_7[0][0]'\n",
            "                                                                    ]                             \n",
            "                                                                                                  \n",
            " conv2d_10 (Conv2D)          (None, 6, 6, 256)            590080    ['activation_4[0][0]']        \n",
            "                                                                                                  \n",
            " batch_normalization_8 (Bat  (None, 6, 6, 256)            1024      ['conv2d_10[0][0]']           \n",
            " chNormalization)                                                                                 \n",
            "                                                                                                  \n",
            " add_2 (Add)                 (None, 6, 6, 256)            0         ['batch_normalization_6[0][0]'\n",
            "                                                                    , 'batch_normalization_8[0][0]\n",
            "                                                                    ']                            \n",
            "                                                                                                  \n",
            " activation_5 (Activation)   (None, 6, 6, 256)            0         ['add_2[0][0]']               \n",
            "                                                                                                  \n",
            " add_1 (Add)                 (None, 6, 6, 256)            0         ['batch_normalization_6[0][0]'\n",
            "                                                                    , 'activation_5[0][0]']       \n",
            "                                                                                                  \n",
            " attention (Attention)       (None, 6, 6, 256)            0         ['add_1[0][0]',               \n",
            "                                                                     'add_1[0][0]']               \n",
            "                                                                                                  \n",
            " max_pooling2d_3 (MaxPoolin  (None, 3, 3, 256)            0         ['attention[0][0]']           \n",
            " g2D)                                                                                             \n",
            "                                                                                                  \n",
            " dropout_3 (Dropout)         (None, 3, 3, 256)            0         ['max_pooling2d_3[0][0]']     \n",
            "                                                                                                  \n",
            " global_average_pooling2d_1  (None, 256)                  0         ['dropout_3[0][0]']           \n",
            "  (GlobalAveragePooling2D)                                                                        \n",
            "                                                                                                  \n",
            " dense_2 (Dense)             (None, 256)                  65792     ['global_average_pooling2d_1[0\n",
            "                                                                    ][0]']                        \n",
            "                                                                                                  \n",
            " batch_normalization_9 (Bat  (None, 256)                  1024      ['dense_2[0][0]']             \n",
            " chNormalization)                                                                                 \n",
            "                                                                                                  \n",
            " dropout_4 (Dropout)         (None, 256)                  0         ['batch_normalization_9[0][0]'\n",
            "                                                                    ]                             \n",
            "                                                                                                  \n",
            " activation_6 (Activation)   (None, 256)                  0         ['dropout_4[0][0]']           \n",
            "                                                                                                  \n",
            " dense_3 (Dense)             (None, 512)                  131584    ['activation_6[0][0]']        \n",
            "                                                                                                  \n",
            " batch_normalization_10 (Ba  (None, 512)                  2048      ['dense_3[0][0]']             \n",
            " tchNormalization)                                                                                \n",
            "                                                                                                  \n",
            " dropout_5 (Dropout)         (None, 512)                  0         ['batch_normalization_10[0][0]\n",
            "                                                                    ']                            \n",
            "                                                                                                  \n",
            " activation_7 (Activation)   (None, 512)                  0         ['dropout_5[0][0]']           \n",
            "                                                                                                  \n",
            " dense_4 (Dense)             (None, 7)                    3591      ['activation_7[0][0]']        \n",
            "                                                                                                  \n",
            "==================================================================================================\n",
            "Total params: 3701455 (14.12 MB)\n",
            "Trainable params: 3696335 (14.10 MB)\n",
            "Non-trainable params: 5120 (20.00 KB)\n",
            "__________________________________________________________________________________________________\n"
          ]
        }
      ],
      "source": [
        "#load the model\n",
        "from google.colab import drive\n",
        "from keras.models import load_model\n",
        "drive.mount('/content/drive')\n",
        "load_path = '/content/drive/My Drive/models/Image.h5'\n",
        "try:\n",
        "    emotion_model = load_model(load_path)\n",
        "    print(\"Model loaded successfully.\")\n",
        "    emotion_model.summary()\n",
        "except Exception as e:\n",
        "    print(f\"Error loading model: {e}\")\n"
      ]
    },
    {
      "cell_type": "markdown",
      "source": [
        "Evaluate the model"
      ],
      "metadata": {
        "id": "P7HH1JZJ7jC3"
      }
    },
    {
      "cell_type": "code",
      "source": [
        "import numpy as np\n",
        "from keras.preprocessing.image import ImageDataGenerator\n",
        "from sklearn.metrics import classification_report, confusion_matrix\n",
        "import matplotlib.pyplot as plt\n",
        "import seaborn as sns\n",
        "\n",
        "test_dir = 'test'\n",
        "\n",
        "test_datagen = ImageDataGenerator(rescale=1./255)\n",
        "\n",
        "test_generator = test_datagen.flow_from_directory(\n",
        "    test_dir,\n",
        "    target_size=(48, 48),\n",
        "    batch_size=64,\n",
        "    color_mode=\"grayscale\",\n",
        "    class_mode='categorical',\n",
        "    shuffle=False\n",
        ")\n",
        "\n",
        "# Evaluate the model on the test set\n",
        "test_loss, test_accuracy = emotion_model.evaluate(test_generator, steps=test_generator.samples // test_generator.batch_size)\n",
        "print(f'Test Loss: {test_loss}')\n",
        "print(f'Test Accuracy: {test_accuracy}')\n",
        "\n",
        "test_generator.reset()\n",
        "predictions = emotion_model.predict(test_generator, steps=test_generator.samples // test_generator.batch_size + 1)\n",
        "predicted_classes = np.argmax(predictions, axis=1)\n",
        "\n",
        "true_classes = test_generator.classes\n",
        "class_labels = list(test_generator.class_indices.keys())\n",
        "\n",
        "# confusion matrix\n",
        "conf_matrix = confusion_matrix(true_classes, predicted_classes)\n",
        "\n",
        "# Plot confusion matrix\n",
        "plt.figure(figsize=(10, 8))\n",
        "sns.heatmap(conf_matrix, annot=True, fmt='d', cmap='Blues', xticklabels=class_labels, yticklabels=class_labels)\n",
        "plt.xlabel('Predicted')\n",
        "plt.ylabel('True')\n",
        "plt.title('Confusion Matrix')\n",
        "plt.show()\n",
        "\n",
        "# Print classification report\n",
        "report = classification_report(true_classes, predicted_classes, target_names=class_labels)\n",
        "print(report)\n"
      ],
      "metadata": {
        "colab": {
          "base_uri": "https://localhost:8080/",
          "height": 1000
        },
        "id": "LLfL-MRh5K2J",
        "outputId": "91591137-3b0a-49c7-ce60-3488ff68db3b"
      },
      "execution_count": null,
      "outputs": [
        {
          "output_type": "stream",
          "name": "stdout",
          "text": [
            "Found 7178 images belonging to 7 classes.\n",
            "112/112 [==============================] - 3s 25ms/step - loss: 1.4641 - accuracy: 0.6349\n",
            "Test Loss: 1.464058518409729\n",
            "Test Accuracy: 0.6349051594734192\n",
            "113/113 [==============================] - 4s 30ms/step\n"
          ]
        },
        {
          "output_type": "display_data",
          "data": {
            "text/plain": [
              "<Figure size 1000x800 with 2 Axes>"
            ],
            "image/png": "[encoded data removed]"
          },
          "metadata": {}
        },
        {
          "output_type": "stream",
          "name": "stdout",
          "text": [
            "              precision    recall  f1-score   support\n",
            "\n",
            "       angry       0.49      0.60      0.54       958\n",
            "     disgust       0.74      0.61      0.67       111\n",
            "        fear       0.50      0.48      0.49      1024\n",
            "       happy       0.87      0.80      0.83      1774\n",
            "     neutral       0.58      0.55      0.57      1233\n",
            "         sad       0.51      0.53      0.52      1247\n",
            "    surprise       0.81      0.79      0.80       831\n",
            "\n",
            "    accuracy                           0.63      7178\n",
            "   macro avg       0.64      0.62      0.63      7178\n",
            "weighted avg       0.64      0.63      0.64      7178\n",
            "\n"
          ]
        }
      ]
    },
    {
      "cell_type": "markdown",
      "source": [
        "Test the Image Sentiment Analysis model"
      ],
      "metadata": {
        "id": "n4H3cUisNXhE"
      }
    },
    {
      "cell_type": "code",
      "execution_count": null,
      "metadata": {
        "id": "nMS1wuzwwS_t"
      },
      "outputs": [],
      "source": [
        "from google.colab import drive\n",
        "from tensorflow.keras.preprocessing import image\n",
        "import numpy as np\n",
        "\n",
        "# Mount Google Drive\n",
        "drive.mount('/content/drive')\n",
        "\n",
        "\n",
        "def preprocess_image(img_path):\n",
        "    img = image.load_img(img_path, color_mode='grayscale', target_size=(48, 48))\n",
        "    img = image.img_to_array(img)\n",
        "    img = np.expand_dims(img, axis=0)\n",
        "    img /= 255.0\n",
        "    return img\n",
        "\n",
        "# Path to the image in your Google Drive\n",
        "test_img_path = '/content/drive/My Drive/d.jpg'\n",
        "\n",
        "# Preprocess the image\n",
        "preprocessed_img = preprocess_image(test_img_path)\n",
        "\n",
        "prediction = emotion_model.predict(preprocessed_img)\n",
        "emotion_label = np.argmax(prediction)\n",
        "emotion_dict = {0: 'Angry', 1: 'Disgust', 2: 'Fear', 3: 'Happy', 4: 'Neutral', 5: 'Sad', 6: 'Surprise'}\n",
        "predicted_emotion = emotion_dict[emotion_label]\n",
        "print(f'Predicted emotion: {predicted_emotion}')\n",
        "\n"
      ]
    },
    {
      "cell_type": "code",
      "source": [
        "from google.colab import drive\n",
        "from keras.models import load_model\n",
        "drive.mount('/content/drive')\n",
        "load_path = '/content/drive/My Drive/models/Image.h5'"
      ],
      "metadata": {
        "colab": {
          "base_uri": "https://localhost:8080/"
        },
        "id": "3dVQRyns75KN",
        "outputId": "511c4eef-4f45-4ffc-827e-fa803c8af55c"
      },
      "execution_count": null,
      "outputs": [
        {
          "output_type": "stream",
          "name": "stdout",
          "text": [
            "Mounted at /content/drive\n"
          ]
        }
      ]
    },
    {
      "cell_type": "markdown",
      "source": [
        "**Angry**"
      ],
      "metadata": {
        "id": "JgRTtlfTM81K"
      }
    },
    {
      "cell_type": "code",
      "execution_count": null,
      "metadata": {
        "id": "cn7hX35dwY0e",
        "colab": {
          "base_uri": "https://localhost:8080/"
        },
        "outputId": "7bddc4f8-d469-41bf-8cee-520c35afa831"
      },
      "outputs": [
        {
          "output_type": "stream",
          "name": "stdout",
          "text": [
            "Drive already mounted at /content/drive; to attempt to forcibly remount, call drive.mount(\"/content/drive\", force_remount=True).\n",
            "1/1 [==============================] - 0s 158ms/step\n",
            "Predicted emotion: Angry\n"
          ]
        }
      ],
      "source": [
        "\n",
        "from google.colab import drive\n",
        "drive.mount('/content/drive')\n",
        "\n",
        "from tensorflow.keras.models import load_model\n",
        "\n",
        "model_path = '/content/drive/My Drive/models/Image.h5'\n",
        "\n",
        "emotion_model = load_model(model_path)\n",
        "\n",
        "from tensorflow.keras.preprocessing import image\n",
        "import numpy as np\n",
        "\n",
        "def preprocess_image(img_path):\n",
        "    img = image.load_img(img_path, color_mode='grayscale', target_size=(48, 48))\n",
        "    img = image.img_to_array(img)\n",
        "    img = np.expand_dims(img, axis=0)\n",
        "    img /= 255.0\n",
        "    return img\n",
        "\n",
        "test_img_path = '/content/drive/My Drive/images/test/angry/PublicTest_99743122.jpg'\n",
        "\n",
        "preprocessed_img = preprocess_image(test_img_path)\n",
        "\n",
        "prediction = emotion_model.predict(preprocessed_img)\n",
        "emotion_label = np.argmax(prediction)\n",
        "emotion_dict = {0: 'Angry', 1: 'Disgust', 2: 'Fear', 3: 'Happy', 4: 'Neutral', 5: 'Sad', 6: 'Surprise'}\n",
        "predicted_emotion = emotion_dict[emotion_label]\n",
        "print(f'Predicted emotion: {predicted_emotion}')\n",
        "\n"
      ]
    },
    {
      "cell_type": "code",
      "source": [],
      "metadata": {
        "id": "s0sL74kgVCU3"
      },
      "execution_count": null,
      "outputs": []
    },
    {
      "cell_type": "code",
      "source": [],
      "metadata": {
        "id": "-37r5L6RVCEe"
      },
      "execution_count": null,
      "outputs": []
    },
    {
      "cell_type": "markdown",
      "source": [
        "**Surprise**"
      ],
      "metadata": {
        "id": "0fVCeC2INXDc"
      }
    },
    {
      "cell_type": "code",
      "execution_count": null,
      "metadata": {
        "id": "5VWGqSIVwbvT",
        "colab": {
          "base_uri": "https://localhost:8080/"
        },
        "outputId": "8e7e5aed-88d8-4571-cd53-f556db001cfa"
      },
      "outputs": [
        {
          "output_type": "stream",
          "name": "stdout",
          "text": [
            "Drive already mounted at /content/drive; to attempt to forcibly remount, call drive.mount(\"/content/drive\", force_remount=True).\n",
            "1/1 [==============================] - 0s 156ms/step\n",
            "Predicted emotion: Surprise\n"
          ]
        }
      ],
      "source": [
        "\n",
        "from google.colab import drive\n",
        "drive.mount('/content/drive')\n",
        "\n",
        "from tensorflow.keras.models import load_model\n",
        "\n",
        "model_path = '/content/drive/My Drive/models/Image.h5'\n",
        "\n",
        "emotion_model = load_model(model_path)\n",
        "\n",
        "from tensorflow.keras.preprocessing import image\n",
        "import numpy as np\n",
        "\n",
        "def preprocess_image(img_path):\n",
        "    img = image.load_img(img_path, color_mode='grayscale', target_size=(48, 48))\n",
        "    img = image.img_to_array(img)\n",
        "    img = np.expand_dims(img, axis=0)\n",
        "    img /= 255.0\n",
        "    return img\n",
        "\n",
        "test_img_path = '/content/drive/My Drive/images/test/surprise/PublicTest_99446963.jpg'\n",
        "\n",
        "preprocessed_img = preprocess_image(test_img_path)\n",
        "\n",
        "prediction = emotion_model.predict(preprocessed_img)\n",
        "emotion_label = np.argmax(prediction)\n",
        "emotion_dict = {0: 'Angry', 1: 'Disgust', 2: 'Fear', 3: 'Happy', 4: 'Neutral', 5: 'Sad', 6: 'Surprise'}\n",
        "predicted_emotion = emotion_dict[emotion_label]\n",
        "print(f'Predicted emotion: {predicted_emotion}')\n",
        "\n"
      ]
    },
    {
      "cell_type": "markdown",
      "source": [
        "**Sad**"
      ],
      "metadata": {
        "id": "ADHug5b2NvQH"
      }
    },
    {
      "cell_type": "code",
      "source": [
        "\n",
        "from google.colab import drive\n",
        "drive.mount('/content/drive')\n",
        "\n",
        "from tensorflow.keras.models import load_model\n",
        "\n",
        "model_path = '/content/drive/My Drive/models/Image.h5'\n",
        "\n",
        "emotion_model = load_model(model_path)\n",
        "\n",
        "from tensorflow.keras.preprocessing import image\n",
        "import numpy as np\n",
        "\n",
        "def preprocess_image(img_path):\n",
        "    img = image.load_img(img_path, color_mode='grayscale', target_size=(48, 48))\n",
        "    img = image.img_to_array(img)\n",
        "    img = np.expand_dims(img, axis=0)\n",
        "    img /= 255.0\n",
        "    return img\n",
        "\n",
        "test_img_path = '/content/drive/My Drive/images/test/sad/PublicTest_99741160.jpg'\n",
        "\n",
        "preprocessed_img = preprocess_image(test_img_path)\n",
        "\n",
        "prediction = emotion_model.predict(preprocessed_img)\n",
        "emotion_label = np.argmax(prediction)\n",
        "emotion_dict = {0: 'Angry', 1: 'Disgust', 2: 'Fear', 3: 'Happy', 4: 'Neutral', 5: 'Sad', 6: 'Surprise'}\n",
        "predicted_emotion = emotion_dict[emotion_label]\n",
        "print(f'Predicted emotion: {predicted_emotion}')\n",
        "\n"
      ],
      "metadata": {
        "colab": {
          "base_uri": "https://localhost:8080/"
        },
        "id": "P46sF0HrNrky",
        "outputId": "2b77d890-3fc6-4d5d-abc8-3e371e10ffb4"
      },
      "execution_count": null,
      "outputs": [
        {
          "output_type": "stream",
          "name": "stdout",
          "text": [
            "Drive already mounted at /content/drive; to attempt to forcibly remount, call drive.mount(\"/content/drive\", force_remount=True).\n",
            "1/1 [==============================] - 0s 285ms/step\n",
            "Predicted emotion: Sad\n"
          ]
        }
      ]
    },
    {
      "cell_type": "markdown",
      "source": [
        "**Neutral**"
      ],
      "metadata": {
        "id": "mMS_rDStOOeK"
      }
    },
    {
      "cell_type": "code",
      "source": [
        "\n",
        "from google.colab import drive\n",
        "drive.mount('/content/drive')\n",
        "\n",
        "from tensorflow.keras.models import load_model\n",
        "\n",
        "model_path = '/content/drive/My Drive/models/Image.h5'\n",
        "\n",
        "emotion_model = load_model(model_path)\n",
        "\n",
        "from tensorflow.keras.preprocessing import image\n",
        "import numpy as np\n",
        "\n",
        "def preprocess_image(img_path):\n",
        "    img = image.load_img(img_path, color_mode='grayscale', target_size=(48, 48))\n",
        "    img = image.img_to_array(img)\n",
        "    img = np.expand_dims(img, axis=0)\n",
        "    img /= 255.0\n",
        "    return img\n",
        "\n",
        "test_img_path = '/content/drive/My Drive/images/test/neutral/PublicTest_99862107.jpg'\n",
        "\n",
        "preprocessed_img = preprocess_image(test_img_path)\n",
        "\n",
        "prediction = emotion_model.predict(preprocessed_img)\n",
        "emotion_label = np.argmax(prediction)\n",
        "emotion_dict = {0: 'Angry', 1: 'Disgust', 2: 'Fear', 3: 'Happy', 4: 'Neutral', 5: 'Sad', 6: 'Surprise'}\n",
        "predicted_emotion = emotion_dict[emotion_label]\n",
        "print(f'Predicted emotion: {predicted_emotion}')\n",
        "\n"
      ],
      "metadata": {
        "colab": {
          "base_uri": "https://localhost:8080/"
        },
        "id": "Kj_-aVelONoD",
        "outputId": "f4cfdb5b-4a12-4eb8-bb90-e3d71ff92460"
      },
      "execution_count": null,
      "outputs": [
        {
          "output_type": "stream",
          "name": "stdout",
          "text": [
            "Drive already mounted at /content/drive; to attempt to forcibly remount, call drive.mount(\"/content/drive\", force_remount=True).\n"
          ]
        },
        {
          "output_type": "stream",
          "name": "stderr",
          "text": [
            "WARNING:tensorflow:6 out of the last 6 calls to <function Model.make_predict_function.<locals>.predict_function at 0x7d38a06afb50> triggered tf.function retracing. Tracing is expensive and the excessive number of tracings could be due to (1) creating @tf.function repeatedly in a loop, (2) passing tensors with different shapes, (3) passing Python objects instead of tensors. For (1), please define your @tf.function outside of the loop. For (2), @tf.function has reduce_retracing=True option that can avoid unnecessary retracing. For (3), please refer to https://www.tensorflow.org/guide/function#controlling_retracing and https://www.tensorflow.org/api_docs/python/tf/function for  more details.\n"
          ]
        },
        {
          "output_type": "stream",
          "name": "stdout",
          "text": [
            "1/1 [==============================] - 0s 148ms/step\n",
            "Predicted emotion: Neutral\n"
          ]
        }
      ]
    },
    {
      "cell_type": "markdown",
      "source": [
        "**Happy**"
      ],
      "metadata": {
        "id": "FTp6hZYGOjYM"
      }
    },
    {
      "cell_type": "code",
      "source": [
        "\n",
        "from google.colab import drive\n",
        "drive.mount('/content/drive')\n",
        "\n",
        "from tensorflow.keras.models import load_model\n",
        "\n",
        "model_path = '/content/drive/My Drive/models/Image.h5'\n",
        "\n",
        "emotion_model = load_model(model_path)\n",
        "\n",
        "from tensorflow.keras.preprocessing import image\n",
        "import numpy as np\n",
        "\n",
        "def preprocess_image(img_path):\n",
        "    img = image.load_img(img_path, color_mode='grayscale', target_size=(48, 48))\n",
        "    img = image.img_to_array(img)\n",
        "    img = np.expand_dims(img, axis=0)\n",
        "    img /= 255.0\n",
        "    return img\n",
        "\n",
        "test_img_path = '/content/drive/My Drive/images/test/happy/PublicTest_99849498.jpg'\n",
        "\n",
        "preprocessed_img = preprocess_image(test_img_path)\n",
        "\n",
        "prediction = emotion_model.predict(preprocessed_img)\n",
        "emotion_label = np.argmax(prediction)\n",
        "emotion_dict = {0: 'Angry', 1: 'Disgust', 2: 'Fear', 3: 'Happy', 4: 'Neutral', 5: 'Sad', 6: 'Surprise'}\n",
        "predicted_emotion = emotion_dict[emotion_label]\n",
        "print(f'Predicted emotion: {predicted_emotion}')\n",
        "\n"
      ],
      "metadata": {
        "colab": {
          "base_uri": "https://localhost:8080/"
        },
        "id": "AFxJkR_uOfad",
        "outputId": "754c17a5-7806-4a02-e298-1994e53e19b3"
      },
      "execution_count": null,
      "outputs": [
        {
          "output_type": "stream",
          "name": "stdout",
          "text": [
            "Drive already mounted at /content/drive; to attempt to forcibly remount, call drive.mount(\"/content/drive\", force_remount=True).\n",
            "1/1 [==============================] - 0s 415ms/step\n",
            "Predicted emotion: Happy\n"
          ]
        }
      ]
    },
    {
      "cell_type": "markdown",
      "source": [
        "**Fear**"
      ],
      "metadata": {
        "id": "CfGXmSpYPKSc"
      }
    },
    {
      "cell_type": "code",
      "source": [
        "\n",
        "from google.colab import drive\n",
        "drive.mount('/content/drive')\n",
        "\n",
        "from tensorflow.keras.models import load_model\n",
        "\n",
        "model_path = '/content/drive/My Drive/models/Image.h5'\n",
        "\n",
        "emotion_model = load_model(model_path)\n",
        "\n",
        "from tensorflow.keras.preprocessing import image\n",
        "import numpy as np\n",
        "\n",
        "def preprocess_image(img_path):\n",
        "    img = image.load_img(img_path, color_mode='grayscale', target_size=(48, 48))\n",
        "    img = image.img_to_array(img)\n",
        "    img = np.expand_dims(img, axis=0)\n",
        "    img /= 255.0\n",
        "    return img\n",
        "\n",
        "test_img_path = '/content/drive/My Drive/images/test/fear/PublicTest_99801821.jpg'\n",
        "\n",
        "preprocessed_img = preprocess_image(test_img_path)\n",
        "\n",
        "prediction = emotion_model.predict(preprocessed_img)\n",
        "emotion_label = np.argmax(prediction)\n",
        "emotion_dict = {0: 'Angry', 1: 'Disgust', 2: 'Fear', 3: 'Happy', 4: 'Neutral', 5: 'Sad', 6: 'Surprise'}\n",
        "predicted_emotion = emotion_dict[emotion_label]\n",
        "print(f'Predicted emotion: {predicted_emotion}')\n",
        "\n"
      ],
      "metadata": {
        "colab": {
          "base_uri": "https://localhost:8080/"
        },
        "id": "yems8N9PO7jy",
        "outputId": "d75bd1ad-770d-4105-84bc-cb1713e80595"
      },
      "execution_count": null,
      "outputs": [
        {
          "output_type": "stream",
          "name": "stdout",
          "text": [
            "Drive already mounted at /content/drive; to attempt to forcibly remount, call drive.mount(\"/content/drive\", force_remount=True).\n",
            "1/1 [==============================] - 0s 217ms/step\n",
            "Predicted emotion: Fear\n"
          ]
        }
      ]
    },
    {
      "cell_type": "markdown",
      "source": [
        "**Disgust**"
      ],
      "metadata": {
        "id": "C3zBnhCGPRVq"
      }
    },
    {
      "cell_type": "code",
      "source": [
        "\n",
        "from google.colab import drive\n",
        "drive.mount('/content/drive')\n",
        "\n",
        "from tensorflow.keras.models import load_model\n",
        "\n",
        "model_path = '/content/drive/My Drive/models/Image.h5'\n",
        "\n",
        "emotion_model = load_model(model_path)\n",
        "\n",
        "from tensorflow.keras.preprocessing import image\n",
        "import numpy as np\n",
        "\n",
        "def preprocess_image(img_path):\n",
        "    img = image.load_img(img_path, color_mode='grayscale', target_size=(48, 48))\n",
        "    img = image.img_to_array(img)\n",
        "    img = np.expand_dims(img, axis=0)\n",
        "    img /= 255.0\n",
        "    return img\n",
        "\n",
        "test_img_path = '/content/drive/My Drive/images/test/disgust/PublicTest_99162116.jpg'\n",
        "\n",
        "preprocessed_img = preprocess_image(test_img_path)\n",
        "\n",
        "prediction = emotion_model.predict(preprocessed_img)\n",
        "emotion_label = np.argmax(prediction)\n",
        "emotion_dict = {0: 'Angry', 1: 'Disgust', 2: 'Fear', 3: 'Happy', 4: 'Neutral', 5: 'Sad', 6: 'Surprise'}\n",
        "predicted_emotion = emotion_dict[emotion_label]\n",
        "print(f'Predicted emotion: {predicted_emotion}')"
      ],
      "metadata": {
        "colab": {
          "base_uri": "https://localhost:8080/"
        },
        "id": "Ry7chKMyPM0Z",
        "outputId": "e0f8fbcd-0437-47e4-d25a-f3038c767d28"
      },
      "execution_count": null,
      "outputs": [
        {
          "output_type": "stream",
          "name": "stdout",
          "text": [
            "Drive already mounted at /content/drive; to attempt to forcibly remount, call drive.mount(\"/content/drive\", force_remount=True).\n",
            "1/1 [==============================] - 0s 159ms/step\n",
            "Predicted emotion: Disgust\n"
          ]
        }
      ]
    },
    {
      "cell_type": "code",
      "source": [],
      "metadata": {
        "id": "ZdbIm08PPkIm"
      },
      "execution_count": null,
      "outputs": []
    }
  ],
  "metadata": {
    "colab": {
      "provenance": [],
      "authorship_tag": "ABX9TyO9YLwKZQWhQB5wQRmJFeQO",
      "include_colab_link": true
    },
    "kernelspec": {
      "display_name": "Python 3",
      "name": "python3"
    },
    "language_info": {
      "name": "python"
    }
  },
  "nbformat": 4,
  "nbformat_minor": 0
}