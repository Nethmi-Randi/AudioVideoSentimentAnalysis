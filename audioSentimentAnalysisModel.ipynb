{
  "nbformat": 4,
  "nbformat_minor": 0,
  "metadata": {
    "colab": {
      "provenance": [],
      "authorship_tag": "ABX9TyP8kWmrhxDMNt+HMmWlYwmG",
      "include_colab_link": true
    },
    "kernelspec": {
      "name": "python3",
      "display_name": "Python 3"
    },
    "language_info": {
      "name": "python"
    }
  },
  "cells": [
    {
      "cell_type": "markdown",
      "metadata": {
        "id": "view-in-github",
        "colab_type": "text"
      },
      "source": [
        "<a href=\"https://colab.research.google.com/github/Nethmi-Randi/AudioVideoSentimentAnalysis/blob/main/audioSentimentAnalysisModel.ipynb\" target=\"_parent\"><img src=\"https://colab.research.google.com/assets/colab-badge.svg\" alt=\"Open In Colab\"/></a>"
      ]
    },
    {
      "cell_type": "code",
      "execution_count": null,
      "metadata": {
        "colab": {
          "base_uri": "https://localhost:8080/"
        },
        "id": "mbjqx5av_oW3",
        "outputId": "2e5e9ad4-b9e3-4cf1-909b-3feb40903ab6"
      },
      "outputs": [
        {
          "output_type": "stream",
          "name": "stdout",
          "text": [
            "Drive already mounted at /content/drive; to attempt to forcibly remount, call drive.mount(\"/content/drive\", force_remount=True).\n"
          ]
        }
      ],
      "source": [
        "import os\n",
        "import numpy as np\n",
        "import pandas as pd\n",
        "import librosa\n",
        "import librosa.display\n",
        "from sklearn.model_selection import train_test_split\n",
        "from sklearn.preprocessing import LabelEncoder, StandardScaler\n",
        "from keras.models import Sequential\n",
        "from keras.layers import Conv1D, MaxPooling1D, Flatten, Dense, Dropout\n",
        "from keras.callbacks import ReduceLROnPlateau\n",
        "import matplotlib.pyplot as plt\n",
        "\n",
        "from google.colab import drive\n",
        "drive.mount('/content/drive')\n",
        "zip_file_path = '/content/drive/MyDrive/ravdess.zip'\n",
        "\n",
        "import zipfile\n",
        "extract_dir = '/content/MyDrive/RAVDESS/ravdess'\n",
        "with zipfile.ZipFile(zip_file_path, 'r') as zip_ref:\n",
        "    zip_ref.extractall(extract_dir)"
      ]
    },
    {
      "cell_type": "markdown",
      "source": [
        "Process and Organize the dataset and Create data frames"
      ],
      "metadata": {
        "id": "Gx3_3PBpKw76"
      }
    },
    {
      "cell_type": "code",
      "source": [
        "import os\n",
        "import pandas as pd\n",
        "\n",
        "Ravdess = '/content/MyDrive/RAVDESS/ravdess/ravdess'\n",
        "\n",
        "ravdess_directory_list = os.listdir(Ravdess)\n",
        "file_emotion = []\n",
        "file_path = []\n",
        "\n",
        "for dir in ravdess_directory_list:\n",
        "    actor = os.listdir(os.path.join(Ravdess, dir))\n",
        "    for file in actor:\n",
        "        part = file.split('.')[0].split('-')\n",
        "        file_emotion.append(int(part[2]))\n",
        "        file_path.append(os.path.join(Ravdess, dir, file))\n",
        "\n",
        "emotion_df = pd.DataFrame(file_emotion, columns=['Emotions'])\n",
        "path_df = pd.DataFrame(file_path, columns=['Path'])\n",
        "ravdess_df = pd.concat([emotion_df, path_df], axis=1)\n",
        "\n",
        "emotion_map = {1: 'neutral', 2: 'calm', 3: 'happy', 4: 'sad', 5: 'angry', 6: 'fear', 7: 'disgust', 8: 'surprise'}\n",
        "ravdess_df.Emotions.replace(emotion_map, inplace=True)\n",
        "\n",
        "# Filter out 'calm' emotion\n",
        "ravdess_df = ravdess_df[ravdess_df.Emotions != 'calm']\n",
        "\n",
        "print(ravdess_df.head())\n"
      ],
      "metadata": {
        "colab": {
          "base_uri": "https://localhost:8080/"
        },
        "id": "zwMJtA6__9rp",
        "outputId": "328c346e-c01d-4629-b5b3-b8aae47407c8"
      },
      "execution_count": null,
      "outputs": [
        {
          "output_type": "stream",
          "name": "stdout",
          "text": [
            "  Emotions                                               Path\n",
            "0     fear  /content/MyDrive/RAVDESS/ravdess/ravdess/Actor...\n",
            "1     fear  /content/MyDrive/RAVDESS/ravdess/ravdess/Actor...\n",
            "2     fear  /content/MyDrive/RAVDESS/ravdess/ravdess/Actor...\n",
            "3    happy  /content/MyDrive/RAVDESS/ravdess/ravdess/Actor...\n",
            "5    happy  /content/MyDrive/RAVDESS/ravdess/ravdess/Actor...\n"
          ]
        }
      ]
    },
    {
      "cell_type": "markdown",
      "source": [
        "Augmentation of audio data"
      ],
      "metadata": {
        "id": "LcJnxipwPTmP"
      }
    },
    {
      "cell_type": "code",
      "source": [
        "def noise(data): # Add random noise to the signal\n",
        "    noise_amp = 0.035 * np.random.uniform() * np.amax(data)\n",
        "    data = data + noise_amp * np.random.normal(size=data.shape[0])\n",
        "    return data\n",
        "\n",
        "def stretch(data, rate=0.8): # Change the speed of the audio without affecting the pitch\n",
        "    return librosa.effects.time_stretch(data, rate)\n",
        "\n",
        "def shift(data): #Shift the audio signal in time\n",
        "    shift_range = int(np.random.uniform(low=-5, high=5) * 1000)\n",
        "    return np.roll(data, shift_range)\n",
        "\n",
        "def pitch(data, sampling_rate, pitch_factor=0.7): #Change the pitch of the audio , without affecting the speed.\n",
        "    return librosa.effects.pitch_shift(data, sampling_rate, pitch_factor)\n"
      ],
      "metadata": {
        "id": "lSdylzyLABBv"
      },
      "execution_count": null,
      "outputs": []
    },
    {
      "cell_type": "markdown",
      "source": [
        "Extract features from audio"
      ],
      "metadata": {
        "id": "S6py9c5tQ5Rl"
      }
    },
    {
      "cell_type": "code",
      "source": [
        "def extract_features(data, sample_rate):\n",
        "    result = np.array([])\n",
        "\n",
        "    # Zero Crossing Rate - The rate at which the signal changes from positive to negative or vice versa\n",
        "    zcr = np.mean(librosa.feature.zero_crossing_rate(y=data).T, axis=0)\n",
        "    result = np.hstack((result, zcr))\n",
        "\n",
        "    # Chroma Shift\n",
        "    stft = np.abs(librosa.stft(data)) #Short-Time Fourier Transform of the audio signal\n",
        "    chroma_stft = np.mean(librosa.feature.chroma_stft(S=stft, sr=sample_rate).T, axis=0) #computes the chromagram from the STFT\n",
        "    result = np.hstack((result, chroma_stft))\n",
        "\n",
        "    # MFCC - Coefficients that represent the short-term power spectrum of the sound\n",
        "    mfcc = np.mean(librosa.feature.mfcc(y=data, sr=sample_rate, n_mfcc=40).T, axis=0)\n",
        "    result = np.hstack((result, mfcc))\n",
        "\n",
        "    # Root Mean Square Value - square root of the average power of the audio signal\n",
        "    rms = np.mean(librosa.feature.rms(y=data).T, axis=0)\n",
        "    result = np.hstack((result, rms))\n",
        "\n",
        "    # MelSpectrogram- spectrogram where the frequencies are converted to the Mel scale\n",
        "    mel = np.mean(librosa.feature.melspectrogram(y=data, sr=sample_rate).T, axis=0)\n",
        "    result = np.hstack((result, mel))\n",
        "\n",
        "    return result\n"
      ],
      "metadata": {
        "id": "MREny5_6ALyJ"
      },
      "execution_count": null,
      "outputs": []
    },
    {
      "cell_type": "code",
      "source": [
        "pip install resampy"
      ],
      "metadata": {
        "colab": {
          "base_uri": "https://localhost:8080/"
        },
        "id": "GM2Pbr9qBMDv",
        "outputId": "48c6ea69-e761-44c8-d7d0-1d61c291f461",
        "collapsed": true
      },
      "execution_count": null,
      "outputs": [
        {
          "output_type": "stream",
          "name": "stdout",
          "text": [
            "Requirement already satisfied: resampy in /usr/local/lib/python3.10/dist-packages (0.4.3)\n",
            "Requirement already satisfied: numpy>=1.17 in /usr/local/lib/python3.10/dist-packages (from resampy) (1.25.2)\n",
            "Requirement already satisfied: numba>=0.53 in /usr/local/lib/python3.10/dist-packages (from resampy) (0.58.1)\n",
            "Requirement already satisfied: llvmlite<0.42,>=0.41.0dev0 in /usr/local/lib/python3.10/dist-packages (from numba>=0.53->resampy) (0.41.1)\n"
          ]
        }
      ]
    },
    {
      "cell_type": "code",
      "source": [
        "!pip install librosa resampy\n",
        "import librosa\n",
        "from librosa import display\n",
        "import numpy as np\n",
        "import matplotlib.pyplot as plt"
      ],
      "metadata": {
        "colab": {
          "base_uri": "https://localhost:8080/"
        },
        "id": "6Ap8OXuFK2oc",
        "outputId": "6cb1dde8-3021-4a07-bcac-37a6cf331a8d",
        "collapsed": true
      },
      "execution_count": null,
      "outputs": [
        {
          "output_type": "stream",
          "name": "stdout",
          "text": [
            "Requirement already satisfied: librosa in /usr/local/lib/python3.10/dist-packages (0.10.2.post1)\n",
            "Requirement already satisfied: resampy in /usr/local/lib/python3.10/dist-packages (0.4.3)\n",
            "Requirement already satisfied: audioread>=2.1.9 in /usr/local/lib/python3.10/dist-packages (from librosa) (3.0.1)\n",
            "Requirement already satisfied: numpy!=1.22.0,!=1.22.1,!=1.22.2,>=1.20.3 in /usr/local/lib/python3.10/dist-packages (from librosa) (1.25.2)\n",
            "Requirement already satisfied: scipy>=1.2.0 in /usr/local/lib/python3.10/dist-packages (from librosa) (1.11.4)\n",
            "Requirement already satisfied: scikit-learn>=0.20.0 in /usr/local/lib/python3.10/dist-packages (from librosa) (1.2.2)\n",
            "Requirement already satisfied: joblib>=0.14 in /usr/local/lib/python3.10/dist-packages (from librosa) (1.4.2)\n",
            "Requirement already satisfied: decorator>=4.3.0 in /usr/local/lib/python3.10/dist-packages (from librosa) (4.4.2)\n",
            "Requirement already satisfied: numba>=0.51.0 in /usr/local/lib/python3.10/dist-packages (from librosa) (0.58.1)\n",
            "Requirement already satisfied: soundfile>=0.12.1 in /usr/local/lib/python3.10/dist-packages (from librosa) (0.12.1)\n",
            "Requirement already satisfied: pooch>=1.1 in /usr/local/lib/python3.10/dist-packages (from librosa) (1.8.2)\n",
            "Requirement already satisfied: soxr>=0.3.2 in /usr/local/lib/python3.10/dist-packages (from librosa) (0.3.7)\n",
            "Requirement already satisfied: typing-extensions>=4.1.1 in /usr/local/lib/python3.10/dist-packages (from librosa) (4.12.2)\n",
            "Requirement already satisfied: lazy-loader>=0.1 in /usr/local/lib/python3.10/dist-packages (from librosa) (0.4)\n",
            "Requirement already satisfied: msgpack>=1.0 in /usr/local/lib/python3.10/dist-packages (from librosa) (1.0.8)\n",
            "Requirement already satisfied: packaging in /usr/local/lib/python3.10/dist-packages (from lazy-loader>=0.1->librosa) (24.1)\n",
            "Requirement already satisfied: llvmlite<0.42,>=0.41.0dev0 in /usr/local/lib/python3.10/dist-packages (from numba>=0.51.0->librosa) (0.41.1)\n",
            "Requirement already satisfied: platformdirs>=2.5.0 in /usr/local/lib/python3.10/dist-packages (from pooch>=1.1->librosa) (4.2.2)\n",
            "Requirement already satisfied: requests>=2.19.0 in /usr/local/lib/python3.10/dist-packages (from pooch>=1.1->librosa) (2.31.0)\n",
            "Requirement already satisfied: threadpoolctl>=2.0.0 in /usr/local/lib/python3.10/dist-packages (from scikit-learn>=0.20.0->librosa) (3.5.0)\n",
            "Requirement already satisfied: cffi>=1.0 in /usr/local/lib/python3.10/dist-packages (from soundfile>=0.12.1->librosa) (1.16.0)\n",
            "Requirement already satisfied: pycparser in /usr/local/lib/python3.10/dist-packages (from cffi>=1.0->soundfile>=0.12.1->librosa) (2.22)\n",
            "Requirement already satisfied: charset-normalizer<4,>=2 in /usr/local/lib/python3.10/dist-packages (from requests>=2.19.0->pooch>=1.1->librosa) (3.3.2)\n",
            "Requirement already satisfied: idna<4,>=2.5 in /usr/local/lib/python3.10/dist-packages (from requests>=2.19.0->pooch>=1.1->librosa) (3.7)\n",
            "Requirement already satisfied: urllib3<3,>=1.21.1 in /usr/local/lib/python3.10/dist-packages (from requests>=2.19.0->pooch>=1.1->librosa) (2.0.7)\n",
            "Requirement already satisfied: certifi>=2017.4.17 in /usr/local/lib/python3.10/dist-packages (from requests>=2.19.0->pooch>=1.1->librosa) (2024.6.2)\n"
          ]
        }
      ]
    },
    {
      "cell_type": "code",
      "source": [
        "!sudo apt-get install libfluidsynth3"
      ],
      "metadata": {
        "colab": {
          "base_uri": "https://localhost:8080/"
        },
        "id": "zwQS6gsuK2k8",
        "outputId": "923b28f1-bc58-4849-c05b-f5d2fbd9ef48",
        "collapsed": true
      },
      "execution_count": null,
      "outputs": [
        {
          "output_type": "stream",
          "name": "stdout",
          "text": [
            "Reading package lists... Done\n",
            "Building dependency tree... Done\n",
            "Reading state information... Done\n",
            "The following additional packages will be installed:\n",
            "  libinstpatch-1.0-2 timgm6mb-soundfont\n",
            "Suggested packages:\n",
            "  fluid-soundfont-gm\n",
            "The following NEW packages will be installed:\n",
            "  libfluidsynth3 libinstpatch-1.0-2 timgm6mb-soundfont\n",
            "0 upgraded, 3 newly installed, 0 to remove and 45 not upgraded.\n",
            "Need to get 5,913 kB of archives.\n",
            "After this operation, 7,661 kB of additional disk space will be used.\n",
            "Get:1 http://archive.ubuntu.com/ubuntu jammy/universe amd64 libinstpatch-1.0-2 amd64 1.1.6-1 [240 kB]\n",
            "Get:2 http://archive.ubuntu.com/ubuntu jammy/universe amd64 timgm6mb-soundfont all 1.3-5 [5,427 kB]\n",
            "Get:3 http://archive.ubuntu.com/ubuntu jammy/universe amd64 libfluidsynth3 amd64 2.2.5-1 [246 kB]\n",
            "Fetched 5,913 kB in 2s (3,236 kB/s)\n",
            "debconf: unable to initialize frontend: Dialog\n",
            "debconf: (No usable dialog-like program is installed, so the dialog based frontend cannot be used. at /usr/share/perl5/Debconf/FrontEnd/Dialog.pm line 78, <> line 3.)\n",
            "debconf: falling back to frontend: Readline\n",
            "debconf: unable to initialize frontend: Readline\n",
            "debconf: (This frontend requires a controlling tty.)\n",
            "debconf: falling back to frontend: Teletype\n",
            "dpkg-preconfigure: unable to re-open stdin: \n",
            "Selecting previously unselected package libinstpatch-1.0-2:amd64.\n",
            "(Reading database ... 121926 files and directories currently installed.)\n",
            "Preparing to unpack .../libinstpatch-1.0-2_1.1.6-1_amd64.deb ...\n",
            "Unpacking libinstpatch-1.0-2:amd64 (1.1.6-1) ...\n",
            "Selecting previously unselected package timgm6mb-soundfont.\n",
            "Preparing to unpack .../timgm6mb-soundfont_1.3-5_all.deb ...\n",
            "Unpacking timgm6mb-soundfont (1.3-5) ...\n",
            "Selecting previously unselected package libfluidsynth3:amd64.\n",
            "Preparing to unpack .../libfluidsynth3_2.2.5-1_amd64.deb ...\n",
            "Unpacking libfluidsynth3:amd64 (2.2.5-1) ...\n",
            "Setting up timgm6mb-soundfont (1.3-5) ...\n",
            "update-alternatives: using /usr/share/sounds/sf2/TimGM6mb.sf2 to provide /usr/share/sounds/sf2/default-GM.sf2 (default-GM.sf2) in auto mode\n",
            "update-alternatives: using /usr/share/sounds/sf2/TimGM6mb.sf2 to provide /usr/share/sounds/sf3/default-GM.sf3 (default-GM.sf3) in auto mode\n",
            "Setting up libinstpatch-1.0-2:amd64 (1.1.6-1) ...\n",
            "Setting up libfluidsynth3:amd64 (2.2.5-1) ...\n",
            "Processing triggers for libc-bin (2.35-0ubuntu3.4) ...\n",
            "/sbin/ldconfig.real: /usr/local/lib/libtbbbind_2_0.so.3 is not a symbolic link\n",
            "\n",
            "/sbin/ldconfig.real: /usr/local/lib/libtbbbind.so.3 is not a symbolic link\n",
            "\n",
            "/sbin/ldconfig.real: /usr/local/lib/libtbb.so.12 is not a symbolic link\n",
            "\n",
            "/sbin/ldconfig.real: /usr/local/lib/libtbbmalloc_proxy.so.2 is not a symbolic link\n",
            "\n",
            "/sbin/ldconfig.real: /usr/local/lib/libtbbbind_2_5.so.3 is not a symbolic link\n",
            "\n",
            "/sbin/ldconfig.real: /usr/local/lib/libtbbmalloc.so.2 is not a symbolic link\n",
            "\n"
          ]
        }
      ]
    },
    {
      "cell_type": "code",
      "source": [
        "!apt-get -qq install -y graphviz && pip install pydot\n",
        "import pydot"
      ],
      "metadata": {
        "colab": {
          "base_uri": "https://localhost:8080/"
        },
        "id": "yMsz9Q3kLD4y",
        "outputId": "6ab23e3f-a5be-4819-ba05-d9fb934be897",
        "collapsed": true
      },
      "execution_count": null,
      "outputs": [
        {
          "output_type": "stream",
          "name": "stdout",
          "text": [
            "Requirement already satisfied: pydot in /usr/local/lib/python3.10/dist-packages (1.4.2)\n",
            "Requirement already satisfied: pyparsing>=2.1.4 in /usr/local/lib/python3.10/dist-packages (from pydot) (3.1.2)\n"
          ]
        }
      ]
    },
    {
      "cell_type": "code",
      "source": [
        "!pip install cartopy\n",
        "import cartopy"
      ],
      "metadata": {
        "colab": {
          "base_uri": "https://localhost:8080/"
        },
        "id": "Ex4Yq3tgLIhX",
        "outputId": "999bfc64-c355-4e43-eedc-3a2e2e80828b",
        "collapsed": true
      },
      "execution_count": null,
      "outputs": [
        {
          "output_type": "stream",
          "name": "stdout",
          "text": [
            "Collecting cartopy\n",
            "  Downloading Cartopy-0.23.0-cp310-cp310-manylinux_2_17_x86_64.manylinux2014_x86_64.whl (11.6 MB)\n",
            "\u001b[2K     \u001b[90m━━━━━━━━━━━━━━━━━━━━━━━━━━━━━━━━━━━━━━━━\u001b[0m \u001b[32m11.6/11.6 MB\u001b[0m \u001b[31m17.1 MB/s\u001b[0m eta \u001b[36m0:00:00\u001b[0m\n",
            "\u001b[?25hRequirement already satisfied: numpy>=1.21 in /usr/local/lib/python3.10/dist-packages (from cartopy) (1.25.2)\n",
            "Requirement already satisfied: matplotlib>=3.5 in /usr/local/lib/python3.10/dist-packages (from cartopy) (3.7.1)\n",
            "Requirement already satisfied: shapely>=1.7 in /usr/local/lib/python3.10/dist-packages (from cartopy) (2.0.4)\n",
            "Requirement already satisfied: packaging>=20 in /usr/local/lib/python3.10/dist-packages (from cartopy) (24.1)\n",
            "Requirement already satisfied: pyshp>=2.3 in /usr/local/lib/python3.10/dist-packages (from cartopy) (2.3.1)\n",
            "Requirement already satisfied: pyproj>=3.3.1 in /usr/local/lib/python3.10/dist-packages (from cartopy) (3.6.1)\n",
            "Requirement already satisfied: contourpy>=1.0.1 in /usr/local/lib/python3.10/dist-packages (from matplotlib>=3.5->cartopy) (1.2.1)\n",
            "Requirement already satisfied: cycler>=0.10 in /usr/local/lib/python3.10/dist-packages (from matplotlib>=3.5->cartopy) (0.12.1)\n",
            "Requirement already satisfied: fonttools>=4.22.0 in /usr/local/lib/python3.10/dist-packages (from matplotlib>=3.5->cartopy) (4.53.0)\n",
            "Requirement already satisfied: kiwisolver>=1.0.1 in /usr/local/lib/python3.10/dist-packages (from matplotlib>=3.5->cartopy) (1.4.5)\n",
            "Requirement already satisfied: pillow>=6.2.0 in /usr/local/lib/python3.10/dist-packages (from matplotlib>=3.5->cartopy) (9.4.0)\n",
            "Requirement already satisfied: pyparsing>=2.3.1 in /usr/local/lib/python3.10/dist-packages (from matplotlib>=3.5->cartopy) (3.1.2)\n",
            "Requirement already satisfied: python-dateutil>=2.7 in /usr/local/lib/python3.10/dist-packages (from matplotlib>=3.5->cartopy) (2.8.2)\n",
            "Requirement already satisfied: certifi in /usr/local/lib/python3.10/dist-packages (from pyproj>=3.3.1->cartopy) (2024.6.2)\n",
            "Requirement already satisfied: six>=1.5 in /usr/local/lib/python3.10/dist-packages (from python-dateutil>=2.7->matplotlib>=3.5->cartopy) (1.16.0)\n",
            "Installing collected packages: cartopy\n",
            "Successfully installed cartopy-0.23.0\n"
          ]
        }
      ]
    },
    {
      "cell_type": "code",
      "source": [
        "!pip install resampy"
      ],
      "metadata": {
        "colab": {
          "base_uri": "https://localhost:8080/"
        },
        "id": "p6iRTUHbLL63",
        "outputId": "77545157-a39a-4c01-af76-63f2f0d4aace",
        "collapsed": true
      },
      "execution_count": null,
      "outputs": [
        {
          "output_type": "stream",
          "name": "stdout",
          "text": [
            "Requirement already satisfied: resampy in /usr/local/lib/python3.10/dist-packages (0.4.3)\n",
            "Requirement already satisfied: numpy>=1.17 in /usr/local/lib/python3.10/dist-packages (from resampy) (1.25.2)\n",
            "Requirement already satisfied: numba>=0.53 in /usr/local/lib/python3.10/dist-packages (from resampy) (0.58.1)\n",
            "Requirement already satisfied: llvmlite<0.42,>=0.41.0dev0 in /usr/local/lib/python3.10/dist-packages (from numba>=0.53->resampy) (0.41.1)\n"
          ]
        }
      ]
    },
    {
      "cell_type": "code",
      "source": [
        "!pip install librosa --upgrade"
      ],
      "metadata": {
        "colab": {
          "base_uri": "https://localhost:8080/"
        },
        "id": "vz0PZ96gLPVR",
        "outputId": "569416b5-9e5a-4b63-9863-c07a4513960b",
        "collapsed": true
      },
      "execution_count": null,
      "outputs": [
        {
          "output_type": "stream",
          "name": "stdout",
          "text": [
            "Requirement already satisfied: librosa in /usr/local/lib/python3.10/dist-packages (0.10.2.post1)\n",
            "Requirement already satisfied: audioread>=2.1.9 in /usr/local/lib/python3.10/dist-packages (from librosa) (3.0.1)\n",
            "Requirement already satisfied: numpy!=1.22.0,!=1.22.1,!=1.22.2,>=1.20.3 in /usr/local/lib/python3.10/dist-packages (from librosa) (1.25.2)\n",
            "Requirement already satisfied: scipy>=1.2.0 in /usr/local/lib/python3.10/dist-packages (from librosa) (1.11.4)\n",
            "Requirement already satisfied: scikit-learn>=0.20.0 in /usr/local/lib/python3.10/dist-packages (from librosa) (1.2.2)\n",
            "Requirement already satisfied: joblib>=0.14 in /usr/local/lib/python3.10/dist-packages (from librosa) (1.4.2)\n",
            "Requirement already satisfied: decorator>=4.3.0 in /usr/local/lib/python3.10/dist-packages (from librosa) (4.4.2)\n",
            "Requirement already satisfied: numba>=0.51.0 in /usr/local/lib/python3.10/dist-packages (from librosa) (0.58.1)\n",
            "Requirement already satisfied: soundfile>=0.12.1 in /usr/local/lib/python3.10/dist-packages (from librosa) (0.12.1)\n",
            "Requirement already satisfied: pooch>=1.1 in /usr/local/lib/python3.10/dist-packages (from librosa) (1.8.2)\n",
            "Requirement already satisfied: soxr>=0.3.2 in /usr/local/lib/python3.10/dist-packages (from librosa) (0.3.7)\n",
            "Requirement already satisfied: typing-extensions>=4.1.1 in /usr/local/lib/python3.10/dist-packages (from librosa) (4.12.2)\n",
            "Requirement already satisfied: lazy-loader>=0.1 in /usr/local/lib/python3.10/dist-packages (from librosa) (0.4)\n",
            "Requirement already satisfied: msgpack>=1.0 in /usr/local/lib/python3.10/dist-packages (from librosa) (1.0.8)\n",
            "Requirement already satisfied: packaging in /usr/local/lib/python3.10/dist-packages (from lazy-loader>=0.1->librosa) (24.1)\n",
            "Requirement already satisfied: llvmlite<0.42,>=0.41.0dev0 in /usr/local/lib/python3.10/dist-packages (from numba>=0.51.0->librosa) (0.41.1)\n",
            "Requirement already satisfied: platformdirs>=2.5.0 in /usr/local/lib/python3.10/dist-packages (from pooch>=1.1->librosa) (4.2.2)\n",
            "Requirement already satisfied: requests>=2.19.0 in /usr/local/lib/python3.10/dist-packages (from pooch>=1.1->librosa) (2.31.0)\n",
            "Requirement already satisfied: threadpoolctl>=2.0.0 in /usr/local/lib/python3.10/dist-packages (from scikit-learn>=0.20.0->librosa) (3.5.0)\n",
            "Requirement already satisfied: cffi>=1.0 in /usr/local/lib/python3.10/dist-packages (from soundfile>=0.12.1->librosa) (1.16.0)\n",
            "Requirement already satisfied: pycparser in /usr/local/lib/python3.10/dist-packages (from cffi>=1.0->soundfile>=0.12.1->librosa) (2.22)\n",
            "Requirement already satisfied: charset-normalizer<4,>=2 in /usr/local/lib/python3.10/dist-packages (from requests>=2.19.0->pooch>=1.1->librosa) (3.3.2)\n",
            "Requirement already satisfied: idna<4,>=2.5 in /usr/local/lib/python3.10/dist-packages (from requests>=2.19.0->pooch>=1.1->librosa) (3.7)\n",
            "Requirement already satisfied: urllib3<3,>=1.21.1 in /usr/local/lib/python3.10/dist-packages (from requests>=2.19.0->pooch>=1.1->librosa) (2.0.7)\n",
            "Requirement already satisfied: certifi>=2017.4.17 in /usr/local/lib/python3.10/dist-packages (from requests>=2.19.0->pooch>=1.1->librosa) (2024.6.2)\n"
          ]
        }
      ]
    },
    {
      "cell_type": "code",
      "source": [
        "!pip install llvmlite==0.31.0\n",
        "\n",
        "!pip install resampy"
      ],
      "metadata": {
        "colab": {
          "base_uri": "https://localhost:8080/"
        },
        "id": "5WlzmWrHL4pA",
        "outputId": "cea9d0db-a864-4ea7-8918-19c56f7fb781",
        "collapsed": true
      },
      "execution_count": null,
      "outputs": [
        {
          "output_type": "stream",
          "name": "stdout",
          "text": [
            "Collecting llvmlite==0.31.0\n",
            "  Downloading llvmlite-0.31.0.tar.gz (110 kB)\n",
            "\u001b[?25l     \u001b[90m━━━━━━━━━━━━━━━━━━━━━━━━━━━━━━━━━━━━━━━━\u001b[0m \u001b[32m0.0/110.8 kB\u001b[0m \u001b[31m?\u001b[0m eta \u001b[36m-:--:--\u001b[0m\r\u001b[2K     \u001b[90m━━━━━━━━━━━━━━━━━━━━━━━━━━━━━━━━━━━━━━━━\u001b[0m \u001b[32m110.8/110.8 kB\u001b[0m \u001b[31m3.2 MB/s\u001b[0m eta \u001b[36m0:00:00\u001b[0m\n",
            "\u001b[?25h  Preparing metadata (setup.py) ... \u001b[?25l\u001b[?25hdone\n",
            "Building wheels for collected packages: llvmlite\n",
            "  \u001b[1;31merror\u001b[0m: \u001b[1msubprocess-exited-with-error\u001b[0m\n",
            "  \n",
            "  \u001b[31m×\u001b[0m \u001b[32mpython setup.py bdist_wheel\u001b[0m did not run successfully.\n",
            "  \u001b[31m│\u001b[0m exit code: \u001b[1;36m1\u001b[0m\n",
            "  \u001b[31m╰─>\u001b[0m See above for output.\n",
            "  \n",
            "  \u001b[1;35mnote\u001b[0m: This error originates from a subprocess, and is likely not a problem with pip.\n",
            "  Building wheel for llvmlite (setup.py) ... \u001b[?25lerror\n",
            "\u001b[31m  ERROR: Failed building wheel for llvmlite\u001b[0m\u001b[31m\n",
            "\u001b[0m\u001b[?25h  Running setup.py clean for llvmlite\n",
            "Failed to build llvmlite\n",
            "\u001b[31mERROR: Could not build wheels for llvmlite, which is required to install pyproject.toml-based projects\u001b[0m\u001b[31m\n",
            "\u001b[0mRequirement already satisfied: resampy in /usr/local/lib/python3.10/dist-packages (0.4.3)\n",
            "Requirement already satisfied: numpy>=1.17 in /usr/local/lib/python3.10/dist-packages (from resampy) (1.25.2)\n",
            "Requirement already satisfied: numba>=0.53 in /usr/local/lib/python3.10/dist-packages (from resampy) (0.58.1)\n",
            "Requirement already satisfied: llvmlite<0.42,>=0.41.0dev0 in /usr/local/lib/python3.10/dist-packages (from numba>=0.53->resampy) (0.41.1)\n"
          ]
        }
      ]
    },
    {
      "cell_type": "code",
      "source": [
        "!pip3 install resampy"
      ],
      "metadata": {
        "colab": {
          "base_uri": "https://localhost:8080/"
        },
        "id": "uyesG5y7Mnu5",
        "outputId": "34b0e37a-157b-4158-ccf4-035690231fa7",
        "collapsed": true
      },
      "execution_count": null,
      "outputs": [
        {
          "output_type": "stream",
          "name": "stdout",
          "text": [
            "Requirement already satisfied: resampy in /usr/local/lib/python3.10/dist-packages (0.4.3)\n",
            "Requirement already satisfied: numpy>=1.17 in /usr/local/lib/python3.10/dist-packages (from resampy) (1.25.2)\n",
            "Requirement already satisfied: numba>=0.53 in /usr/local/lib/python3.10/dist-packages (from resampy) (0.58.1)\n",
            "Requirement already satisfied: llvmlite<0.42,>=0.41.0dev0 in /usr/local/lib/python3.10/dist-packages (from numba>=0.53->resampy) (0.41.1)\n"
          ]
        }
      ]
    },
    {
      "cell_type": "code",
      "source": [
        "!pip install resampy"
      ],
      "metadata": {
        "colab": {
          "base_uri": "https://localhost:8080/"
        },
        "id": "eP_GZb97NToZ",
        "outputId": "bdb8fadb-011b-45a8-c836-45c74c780c40",
        "collapsed": true
      },
      "execution_count": null,
      "outputs": [
        {
          "output_type": "stream",
          "name": "stdout",
          "text": [
            "Requirement already satisfied: resampy in /usr/local/lib/python3.10/dist-packages (0.4.3)\n",
            "Requirement already satisfied: numpy>=1.17 in /usr/local/lib/python3.10/dist-packages (from resampy) (1.25.2)\n",
            "Requirement already satisfied: numba>=0.53 in /usr/local/lib/python3.10/dist-packages (from resampy) (0.58.1)\n",
            "Requirement already satisfied: llvmlite<0.42,>=0.41.0dev0 in /usr/local/lib/python3.10/dist-packages (from numba>=0.53->resampy) (0.41.1)\n"
          ]
        }
      ]
    },
    {
      "cell_type": "code",
      "source": [
        "!pip install librosa==0.9.2"
      ],
      "metadata": {
        "colab": {
          "base_uri": "https://localhost:8080/"
        },
        "id": "fQZdtVcnNXqY",
        "outputId": "d72b6c4f-dd21-4435-cdfe-a2e6ea7a711d",
        "collapsed": true
      },
      "execution_count": null,
      "outputs": [
        {
          "output_type": "stream",
          "name": "stdout",
          "text": [
            "Requirement already satisfied: librosa==0.9.2 in /usr/local/lib/python3.10/dist-packages (0.9.2)\n",
            "Requirement already satisfied: audioread>=2.1.9 in /usr/local/lib/python3.10/dist-packages (from librosa==0.9.2) (3.0.1)\n",
            "Requirement already satisfied: numpy>=1.17.0 in /usr/local/lib/python3.10/dist-packages (from librosa==0.9.2) (1.25.2)\n",
            "Requirement already satisfied: scipy>=1.2.0 in /usr/local/lib/python3.10/dist-packages (from librosa==0.9.2) (1.11.4)\n",
            "Requirement already satisfied: scikit-learn>=0.19.1 in /usr/local/lib/python3.10/dist-packages (from librosa==0.9.2) (1.2.2)\n",
            "Requirement already satisfied: joblib>=0.14 in /usr/local/lib/python3.10/dist-packages (from librosa==0.9.2) (1.4.2)\n",
            "Requirement already satisfied: decorator>=4.0.10 in /usr/local/lib/python3.10/dist-packages (from librosa==0.9.2) (4.4.2)\n",
            "Requirement already satisfied: resampy>=0.2.2 in /usr/local/lib/python3.10/dist-packages (from librosa==0.9.2) (0.4.3)\n",
            "Requirement already satisfied: numba>=0.45.1 in /usr/local/lib/python3.10/dist-packages (from librosa==0.9.2) (0.58.1)\n",
            "Requirement already satisfied: soundfile>=0.10.2 in /usr/local/lib/python3.10/dist-packages (from librosa==0.9.2) (0.12.1)\n",
            "Requirement already satisfied: pooch>=1.0 in /usr/local/lib/python3.10/dist-packages (from librosa==0.9.2) (1.8.2)\n",
            "Requirement already satisfied: packaging>=20.0 in /usr/local/lib/python3.10/dist-packages (from librosa==0.9.2) (24.1)\n",
            "Requirement already satisfied: llvmlite<0.42,>=0.41.0dev0 in /usr/local/lib/python3.10/dist-packages (from numba>=0.45.1->librosa==0.9.2) (0.41.1)\n",
            "Requirement already satisfied: platformdirs>=2.5.0 in /usr/local/lib/python3.10/dist-packages (from pooch>=1.0->librosa==0.9.2) (4.2.2)\n",
            "Requirement already satisfied: requests>=2.19.0 in /usr/local/lib/python3.10/dist-packages (from pooch>=1.0->librosa==0.9.2) (2.31.0)\n",
            "Requirement already satisfied: threadpoolctl>=2.0.0 in /usr/local/lib/python3.10/dist-packages (from scikit-learn>=0.19.1->librosa==0.9.2) (3.5.0)\n",
            "Requirement already satisfied: cffi>=1.0 in /usr/local/lib/python3.10/dist-packages (from soundfile>=0.10.2->librosa==0.9.2) (1.16.0)\n",
            "Requirement already satisfied: pycparser in /usr/local/lib/python3.10/dist-packages (from cffi>=1.0->soundfile>=0.10.2->librosa==0.9.2) (2.22)\n",
            "Requirement already satisfied: charset-normalizer<4,>=2 in /usr/local/lib/python3.10/dist-packages (from requests>=2.19.0->pooch>=1.0->librosa==0.9.2) (3.3.2)\n",
            "Requirement already satisfied: idna<4,>=2.5 in /usr/local/lib/python3.10/dist-packages (from requests>=2.19.0->pooch>=1.0->librosa==0.9.2) (3.7)\n",
            "Requirement already satisfied: urllib3<3,>=1.21.1 in /usr/local/lib/python3.10/dist-packages (from requests>=2.19.0->pooch>=1.0->librosa==0.9.2) (2.0.7)\n",
            "Requirement already satisfied: certifi>=2017.4.17 in /usr/local/lib/python3.10/dist-packages (from requests>=2.19.0->pooch>=1.0->librosa==0.9.2) (2024.7.4)\n"
          ]
        }
      ]
    },
    {
      "cell_type": "code",
      "source": [
        "import librosa\n",
        "import soundfile as sf\n",
        "import numpy as np"
      ],
      "metadata": {
        "id": "QS7F5PXlNg9J"
      },
      "execution_count": null,
      "outputs": []
    },
    {
      "cell_type": "code",
      "source": [
        "librosa.__version__"
      ],
      "metadata": {
        "colab": {
          "base_uri": "https://localhost:8080/",
          "height": 35
        },
        "id": "RtxMIw8qNrlr",
        "outputId": "638f3006-66d4-4781-a225-46ecd22cb8e9"
      },
      "execution_count": null,
      "outputs": [
        {
          "output_type": "execute_result",
          "data": {
            "text/plain": [
              "'0.9.2'"
            ],
            "application/vnd.google.colaboratory.intrinsic+json": {
              "type": "string"
            }
          },
          "metadata": {},
          "execution_count": 10
        }
      ]
    },
    {
      "cell_type": "markdown",
      "source": [
        "Prepare Audio data\n"
      ],
      "metadata": {
        "id": "S2Xoa_HHh4It"
      }
    },
    {
      "cell_type": "code",
      "source": [
        "\n",
        "from tensorflow.keras.utils import to_categorical\n",
        "from sklearn.model_selection import train_test_split\n",
        "import numpy as np\n",
        "\n",
        "# lists to hold features and labels\n",
        "x, y = [], []\n",
        "\n",
        "# Iterate over the dataframe to extract features\n",
        "for path, emotion in zip(ravdess_df.Path, ravdess_df.Emotions):\n",
        "    data, sample_rate = librosa.load(path, res_type='kaiser_fast')\n",
        "\n",
        "    features = extract_features(data, sample_rate)\n",
        "\n",
        "    x.append(features)\n",
        "    y.append(emotion)\n",
        "\n",
        "# Convert lists to numpy arrays\n",
        "x = np.array(x)\n",
        "y = np.array(y)\n",
        "\n",
        "# Encode the labels\n",
        "label_encoder = LabelEncoder()\n",
        "y = label_encoder.fit_transform(y)\n",
        "y = to_categorical(y)\n",
        "\n",
        "# Normalize the feature data\n",
        "scaler = StandardScaler()\n",
        "x = scaler.fit_transform(x)\n",
        "\n",
        "# Split the dataset into training and testing sets\n",
        "x_train, x_temp, y_train, y_temp = train_test_split(x, y, test_size=0.3, random_state=42)\n",
        "x_test, x_val, y_test, y_val = train_test_split(x_temp, y_temp, test_size=(1/3), random_state=42)\n",
        "\n",
        "x_train = np.expand_dims(x_train, axis=2)\n",
        "x_test = np.expand_dims(x_test, axis=2)\n",
        "x_val = np.expand_dims(x_val, axis=2)\n",
        "\n"
      ],
      "metadata": {
        "id": "fpVtkRETAOJ6"
      },
      "execution_count": null,
      "outputs": []
    },
    {
      "cell_type": "code",
      "source": [
        "from tensorflow.keras.models import Sequential\n",
        "from tensorflow.keras.layers import Conv1D, MaxPooling1D, Flatten, Dense, Dropout, Activation, BatchNormalization\n",
        "\n",
        "# Define input shape\n",
        "input_shape = (x_train.shape[1], 1)\n",
        "\n",
        "# Initialize the model\n",
        "model = Sequential()\n",
        "\n",
        "# Convolutional layers\n",
        "model.add(Conv1D(256, kernel_size=5, strides=1, padding='same', activation='relu', input_shape=input_shape))\n",
        "model.add(MaxPooling1D(pool_size=5, strides=2, padding='same'))\n",
        "\n",
        "model.add(Conv1D(256, kernel_size=5, strides=1, padding='same', activation='relu'))\n",
        "model.add(MaxPooling1D(pool_size=5, strides=2, padding='same'))\n",
        "\n",
        "model.add(Conv1D(128, kernel_size=5, strides=1, padding='same', activation='relu'))\n",
        "model.add(MaxPooling1D(pool_size=5, strides=2, padding='same'))\n",
        "model.add(Dropout(0.2))\n",
        "\n",
        "model.add(Conv1D(128, kernel_size=5, strides=1, padding='same', activation='relu'))\n",
        "model.add(Conv1D(128, kernel_size=5, strides=1, padding='same', activation='relu'))\n",
        "model.add(Conv1D(128, kernel_size=5, strides=1, padding='same', activation='relu'))\n",
        "model.add(BatchNormalization())\n",
        "model.add(Activation('relu'))\n",
        "model.add(Dropout(0.2))\n",
        "\n",
        "model.add(Conv1D(64, kernel_size=5, strides=1, padding='same', activation='relu'))\n",
        "model.add(Conv1D(64, kernel_size=5, strides=1, padding='same', activation='relu'))\n",
        "model.add(Flatten())\n",
        "\n",
        "# Dense layers\n",
        "model.add(Dense(units=4096, activation='relu'))\n",
        "model.add(Dense(units=4096, activation='relu'))\n",
        "model.add(Dropout(0.2))\n",
        "\n",
        "# Output layer\n",
        "model.add(Dense(units=7, activation='softmax'))\n"
      ],
      "metadata": {
        "id": "RqXofJ7pAQua",
        "collapsed": true
      },
      "execution_count": null,
      "outputs": []
    },
    {
      "cell_type": "code",
      "source": [
        "# Compile the model\n",
        "model.compile(optimizer='adam', loss='categorical_crossentropy', metrics=['accuracy'])\n",
        "\n",
        "rlrp = ReduceLROnPlateau(monitor='loss', factor=0.4, verbose=0, patience=2, min_lr=0.0000001)\n",
        "history = model.fit(x_train, y_train, batch_size=32, epochs=75, validation_data=(x_val, y_val), callbacks=[rlrp])"
      ],
      "metadata": {
        "colab": {
          "base_uri": "https://localhost:8080/"
        },
        "id": "SCdrr8dxIZdC",
        "outputId": "3975db83-9c58-4748-fc2b-f189091cae4a",
        "collapsed": true
      },
      "execution_count": null,
      "outputs": [
        {
          "output_type": "stream",
          "name": "stdout",
          "text": [
            "Epoch 1/75\n",
            "179/179 [==============================] - 40s 127ms/step - loss: 2.0537 - accuracy: 0.2181 - val_loss: 1.8288 - val_accuracy: 0.2514\n",
            "Epoch 2/75\n",
            "179/179 [==============================] - 21s 118ms/step - loss: 1.8632 - accuracy: 0.2509 - val_loss: 1.8061 - val_accuracy: 0.2514\n",
            "Epoch 3/75\n",
            "179/179 [==============================] - 21s 118ms/step - loss: 1.7632 - accuracy: 0.3098 - val_loss: 1.9136 - val_accuracy: 0.2804\n",
            "Epoch 4/75\n",
            "179/179 [==============================] - 21s 119ms/step - loss: 1.5877 - accuracy: 0.3922 - val_loss: 2.0243 - val_accuracy: 0.2937\n",
            "Epoch 5/75\n",
            "179/179 [==============================] - 21s 116ms/step - loss: 1.4798 - accuracy: 0.4327 - val_loss: 1.6411 - val_accuracy: 0.3562\n",
            "Epoch 6/75\n",
            "179/179 [==============================] - 21s 118ms/step - loss: 1.3917 - accuracy: 0.4688 - val_loss: 1.6003 - val_accuracy: 0.3540\n",
            "Epoch 7/75\n",
            "179/179 [==============================] - 22s 120ms/step - loss: 1.3148 - accuracy: 0.4973 - val_loss: 1.5474 - val_accuracy: 0.4510\n",
            "Epoch 8/75\n",
            "179/179 [==============================] - 21s 118ms/step - loss: 1.2593 - accuracy: 0.5224 - val_loss: 1.5347 - val_accuracy: 0.4325\n",
            "Epoch 9/75\n",
            "179/179 [==============================] - 21s 119ms/step - loss: 1.2031 - accuracy: 0.5460 - val_loss: 1.2995 - val_accuracy: 0.5178\n",
            "Epoch 10/75\n",
            "179/179 [==============================] - 24s 135ms/step - loss: 1.1706 - accuracy: 0.5598 - val_loss: 1.5800 - val_accuracy: 0.4169\n",
            "Epoch 11/75\n",
            "179/179 [==============================] - 21s 118ms/step - loss: 1.1483 - accuracy: 0.5681 - val_loss: 1.3533 - val_accuracy: 0.5249\n",
            "Epoch 12/75\n",
            "179/179 [==============================] - 22s 122ms/step - loss: 1.1064 - accuracy: 0.5856 - val_loss: 1.2908 - val_accuracy: 0.5094\n",
            "Epoch 13/75\n",
            "179/179 [==============================] - 27s 151ms/step - loss: 1.0855 - accuracy: 0.5923 - val_loss: 1.1515 - val_accuracy: 0.5676\n",
            "Epoch 14/75\n",
            "179/179 [==============================] - 21s 117ms/step - loss: 1.0401 - accuracy: 0.6090 - val_loss: 1.3504 - val_accuracy: 0.5426\n",
            "Epoch 15/75\n",
            "179/179 [==============================] - 22s 122ms/step - loss: 1.0195 - accuracy: 0.6189 - val_loss: 1.1199 - val_accuracy: 0.5742\n",
            "Epoch 16/75\n",
            "179/179 [==============================] - 22s 121ms/step - loss: 0.9841 - accuracy: 0.6351 - val_loss: 1.1391 - val_accuracy: 0.5716\n",
            "Epoch 17/75\n",
            "179/179 [==============================] - 22s 121ms/step - loss: 0.9591 - accuracy: 0.6450 - val_loss: 1.1795 - val_accuracy: 0.5753\n",
            "Epoch 18/75\n",
            "179/179 [==============================] - 22s 121ms/step - loss: 0.9441 - accuracy: 0.6458 - val_loss: 1.1397 - val_accuracy: 0.5868\n",
            "Epoch 19/75\n",
            "179/179 [==============================] - 22s 121ms/step - loss: 0.9211 - accuracy: 0.6608 - val_loss: 1.0474 - val_accuracy: 0.6087\n",
            "Epoch 20/75\n",
            "179/179 [==============================] - 22s 122ms/step - loss: 0.8890 - accuracy: 0.6715 - val_loss: 1.4360 - val_accuracy: 0.5220\n",
            "Epoch 21/75\n",
            "179/179 [==============================] - 22s 121ms/step - loss: 0.8746 - accuracy: 0.6805 - val_loss: 1.2182 - val_accuracy: 0.5772\n",
            "Epoch 22/75\n",
            "179/179 [==============================] - 21s 119ms/step - loss: 0.8522 - accuracy: 0.6862 - val_loss: 1.1069 - val_accuracy: 0.6010\n",
            "Epoch 23/75\n",
            "179/179 [==============================] - 21s 118ms/step - loss: 0.7972 - accuracy: 0.7115 - val_loss: 1.2594 - val_accuracy: 0.5666\n",
            "Epoch 24/75\n",
            "179/179 [==============================] - 21s 117ms/step - loss: 0.8011 - accuracy: 0.7065 - val_loss: 1.2874 - val_accuracy: 0.5467\n",
            "Epoch 25/75\n",
            "179/179 [==============================] - 21s 116ms/step - loss: 0.7882 - accuracy: 0.7120 - val_loss: 1.3374 - val_accuracy: 0.5552\n",
            "Epoch 26/75\n",
            "179/179 [==============================] - 21s 117ms/step - loss: 0.7442 - accuracy: 0.7289 - val_loss: 1.2397 - val_accuracy: 0.5850\n",
            "Epoch 27/75\n",
            "179/179 [==============================] - 22s 120ms/step - loss: 0.7166 - accuracy: 0.7416 - val_loss: 1.1958 - val_accuracy: 0.5795\n",
            "Epoch 28/75\n",
            "179/179 [==============================] - 21s 118ms/step - loss: 0.6721 - accuracy: 0.7552 - val_loss: 1.0822 - val_accuracy: 0.6186\n",
            "Epoch 29/75\n",
            "179/179 [==============================] - 21s 117ms/step - loss: 0.6418 - accuracy: 0.7702 - val_loss: 1.3594 - val_accuracy: 0.5565\n",
            "Epoch 30/75\n",
            "179/179 [==============================] - 21s 117ms/step - loss: 0.6262 - accuracy: 0.7749 - val_loss: 1.1465 - val_accuracy: 0.6138\n",
            "Epoch 31/75\n",
            "179/179 [==============================] - 21s 117ms/step - loss: 0.5951 - accuracy: 0.7873 - val_loss: 1.2613 - val_accuracy: 0.6026\n",
            "Epoch 32/75\n",
            "179/179 [==============================] - 21s 117ms/step - loss: 0.5528 - accuracy: 0.8016 - val_loss: 1.2002 - val_accuracy: 0.6042\n",
            "Epoch 33/75\n",
            "179/179 [==============================] - 21s 118ms/step - loss: 0.5248 - accuracy: 0.8114 - val_loss: 1.4729 - val_accuracy: 0.5783\n",
            "Epoch 34/75\n",
            "179/179 [==============================] - 22s 120ms/step - loss: 0.4968 - accuracy: 0.8215 - val_loss: 1.4786 - val_accuracy: 0.5893\n",
            "Epoch 35/75\n",
            "179/179 [==============================] - 21s 118ms/step - loss: 0.4888 - accuracy: 0.8253 - val_loss: 1.4555 - val_accuracy: 0.5716\n",
            "Epoch 36/75\n",
            "179/179 [==============================] - 21s 116ms/step - loss: 0.4497 - accuracy: 0.8421 - val_loss: 1.2818 - val_accuracy: 0.5984\n",
            "Epoch 37/75\n",
            "179/179 [==============================] - 21s 118ms/step - loss: 0.4351 - accuracy: 0.8463 - val_loss: 1.3733 - val_accuracy: 0.5767\n",
            "Epoch 38/75\n",
            "179/179 [==============================] - 22s 121ms/step - loss: 0.4248 - accuracy: 0.8485 - val_loss: 1.3996 - val_accuracy: 0.6147\n",
            "Epoch 39/75\n",
            "179/179 [==============================] - 22s 121ms/step - loss: 0.3977 - accuracy: 0.8599 - val_loss: 1.5538 - val_accuracy: 0.5907\n",
            "Epoch 40/75\n",
            "179/179 [==============================] - 22s 121ms/step - loss: 0.3637 - accuracy: 0.8717 - val_loss: 1.4626 - val_accuracy: 0.6072\n",
            "Epoch 41/75\n",
            "179/179 [==============================] - 22s 122ms/step - loss: 0.3390 - accuracy: 0.8802 - val_loss: 1.8844 - val_accuracy: 0.5627\n",
            "Epoch 42/75\n",
            "179/179 [==============================] - 22s 121ms/step - loss: 0.3166 - accuracy: 0.8894 - val_loss: 1.4427 - val_accuracy: 0.6154\n",
            "Epoch 43/75\n",
            "179/179 [==============================] - 22s 120ms/step - loss: 0.3087 - accuracy: 0.8905 - val_loss: 1.4216 - val_accuracy: 0.6183\n",
            "Epoch 44/75\n",
            "179/179 [==============================] - 22s 121ms/step - loss: 0.2945 - accuracy: 0.8986 - val_loss: 1.7057 - val_accuracy: 0.5785\n",
            "Epoch 45/75\n",
            "179/179 [==============================] - 23s 125ms/step - loss: 0.2912 - accuracy: 0.8978 - val_loss: 1.6690 - val_accuracy: 0.6167\n",
            "Epoch 46/75\n",
            "179/179 [==============================] - 22s 121ms/step - loss: 0.2695 - accuracy: 0.9069 - val_loss: 1.5529 - val_accuracy: 0.6257\n",
            "Epoch 47/75\n",
            "179/179 [==============================] - 21s 117ms/step - loss: 0.2923 - accuracy: 0.8966 - val_loss: 1.5106 - val_accuracy: 0.6296\n",
            "Epoch 48/75\n",
            "179/179 [==============================] - 21s 117ms/step - loss: 0.2600 - accuracy: 0.9099 - val_loss: 1.6271 - val_accuracy: 0.6158\n",
            "Epoch 49/75\n",
            "179/179 [==============================] - 22s 120ms/step - loss: 0.2350 - accuracy: 0.9195 - val_loss: 1.6907 - val_accuracy: 0.6273\n",
            "Epoch 50/75\n",
            "179/179 [==============================] - 21s 117ms/step - loss: 0.2343 - accuracy: 0.9177 - val_loss: 1.6035 - val_accuracy: 0.6337\n",
            "Epoch 51/75\n",
            "179/179 [==============================] - 21s 118ms/step - loss: 0.2182 - accuracy: 0.9231 - val_loss: 1.5879 - val_accuracy: 0.6207\n",
            "Epoch 52/75\n",
            "179/179 [==============================] - 21s 116ms/step - loss: 0.2085 - accuracy: 0.9278 - val_loss: 1.6884 - val_accuracy: 0.6200\n",
            "Epoch 53/75\n",
            "179/179 [==============================] - 22s 122ms/step - loss: 0.2078 - accuracy: 0.9285 - val_loss: 1.7701 - val_accuracy: 0.6046\n",
            "Epoch 54/75\n",
            "179/179 [==============================] - 22s 121ms/step - loss: 0.1969 - accuracy: 0.9332 - val_loss: 1.6853 - val_accuracy: 0.6191\n",
            "Epoch 55/75\n",
            "179/179 [==============================] - 22s 120ms/step - loss: 0.2042 - accuracy: 0.9288 - val_loss: 1.7858 - val_accuracy: 0.5987\n",
            "Epoch 56/75\n",
            "179/179 [==============================] - 22s 121ms/step - loss: 0.1935 - accuracy: 0.9332 - val_loss: 1.6838 - val_accuracy: 0.6289\n",
            "Epoch 57/75\n",
            "179/179 [==============================] - 21s 118ms/step - loss: 0.1804 - accuracy: 0.9362 - val_loss: 2.0464 - val_accuracy: 0.5929\n",
            "Epoch 58/75\n",
            "179/179 [==============================] - 22s 120ms/step - loss: 0.1731 - accuracy: 0.9405 - val_loss: 1.7439 - val_accuracy: 0.6294\n",
            "Epoch 59/75\n",
            "179/179 [==============================] - 22s 121ms/step - loss: 0.1782 - accuracy: 0.9387 - val_loss: 1.7752 - val_accuracy: 0.6140\n",
            "Epoch 60/75\n",
            "179/179 [==============================] - 21s 118ms/step - loss: 0.1825 - accuracy: 0.9389 - val_loss: 1.6282 - val_accuracy: 0.6278\n",
            "Epoch 61/75\n",
            "179/179 [==============================] - 22s 121ms/step - loss: 0.1527 - accuracy: 0.9485 - val_loss: 1.7648 - val_accuracy: 0.6220\n",
            "Epoch 62/75\n",
            "179/179 [==============================] - 21s 118ms/step - loss: 0.1515 - accuracy: 0.9478 - val_loss: 1.7954 - val_accuracy: 0.6254\n",
            "Epoch 63/75\n",
            "179/179 [==============================] - 22s 122ms/step - loss: 0.1424 - accuracy: 0.9512 - val_loss: 1.8005 - val_accuracy: 0.6207\n",
            "Epoch 64/75\n",
            "179/179 [==============================] - 22s 125ms/step - loss: 0.1511 - accuracy: 0.9502 - val_loss: 1.8899 - val_accuracy: 0.6206\n",
            "Epoch 65/75\n",
            "179/179 [==============================] - 21s 117ms/step - loss: 0.1447 - accuracy: 0.9501 - val_loss: 1.7825 - val_accuracy: 0.6266\n",
            "Epoch 66/75\n",
            "179/179 [==============================] - 21s 119ms/step - loss: 0.1416 - accuracy: 0.9515 - val_loss: 1.8377 - val_accuracy: 0.6310\n",
            "Epoch 67/75\n",
            "179/179 [==============================] - 22s 123ms/step - loss: 0.1295 - accuracy: 0.9563 - val_loss: 1.8543 - val_accuracy: 0.6250\n",
            "Epoch 68/75\n",
            "179/179 [==============================] - 21s 119ms/step - loss: 0.1227 - accuracy: 0.9588 - val_loss: 1.8440 - val_accuracy: 0.6358\n",
            "Epoch 69/75\n",
            "179/179 [==============================] - 21s 117ms/step - loss: 0.1251 - accuracy: 0.9579 - val_loss: 1.9560 - val_accuracy: 0.6255\n",
            "Epoch 70/75\n",
            "179/179 [==============================] - 22s 122ms/step - loss: 0.1197 - accuracy: 0.9609 - val_loss: 1.9784 - val_accuracy: 0.6218\n",
            "Epoch 71/75\n",
            "179/179 [==============================] - 21s 117ms/step - loss: 0.1195 - accuracy: 0.9599 - val_loss: 2.0156 - val_accuracy: 0.6179\n",
            "Epoch 72/75\n",
            "179/179 [==============================] - 21s 118ms/step - loss: 0.1270 - accuracy: 0.9565 - val_loss: 1.8775 - val_accuracy: 0.6303\n",
            "Epoch 73/75\n",
            "179/179 [==============================] - 22s 122ms/step - loss: 0.1368 - accuracy: 0.9549 - val_loss: 1.8605 - val_accuracy: 0.6371\n",
            "Epoch 74/75\n",
            "179/179 [==============================] - 22s 121ms/step - loss: 0.1253 - accuracy: 0.9587 - val_loss: 1.9465 - val_accuracy: 0.6138\n",
            "Epoch 75/75\n",
            "179/179 [==============================] - 22s 122ms/step - loss: 0.1467 - accuracy: 0.9512 - val_loss: 1.7757 - val_accuracy: 0.6289\n"
          ]
        }
      ]
    },
    {
      "cell_type": "code",
      "source": [
        "# Save the model\n",
        "model.save('/content/drive/MyDrive/models/mau.h5')"
      ],
      "metadata": {
        "id": "PsQvoSA_IZZh"
      },
      "execution_count": null,
      "outputs": []
    },
    {
      "cell_type": "code",
      "source": [
        "from google.colab import drive\n",
        "from tensorflow.keras.models import load_model\n",
        "import os\n",
        "\n",
        "# Mount Google Drive\n",
        "drive.mount('/content/drive')\n",
        "# Load the saved model\n",
        "model_path = '/content/drive/MyDrive/models/mau.h5'\n",
        "loaded_model = load_model(model_path)\n",
        "print(\"Model loaded from Google Drive.\")"
      ],
      "metadata": {
        "id": "BcwVbTdccExo",
        "colab": {
          "base_uri": "https://localhost:8080/"
        },
        "outputId": "8a6a00e6-0ead-471c-feba-72bf3a52c9ee"
      },
      "execution_count": null,
      "outputs": [
        {
          "output_type": "stream",
          "name": "stdout",
          "text": [
            "Mounted at /content/drive\n",
            "Model loaded from Google Drive.\n"
          ]
        }
      ]
    },
    {
      "cell_type": "markdown",
      "source": [
        "Get model Summary"
      ],
      "metadata": {
        "id": "jalNdJRkyUR6"
      }
    },
    {
      "cell_type": "code",
      "source": [
        "from google.colab import drive\n",
        "from tensorflow.keras.models import load_model\n",
        "\n",
        "drive.mount('/content/drive')\n",
        "model_path = '/content/drive/My Drive/models/mau.h5'\n",
        "model = load_model(model_path)\n",
        "model.summary()"
      ],
      "metadata": {
        "colab": {
          "base_uri": "https://localhost:8080/"
        },
        "id": "6vTgXMeEyQsv",
        "outputId": "74108402-87fd-4615-c376-fae611690fcf"
      },
      "execution_count": null,
      "outputs": [
        {
          "output_type": "stream",
          "name": "stdout",
          "text": [
            "Drive already mounted at /content/drive; to attempt to forcibly remount, call drive.mount(\"/content/drive\", force_remount=True).\n",
            "Model: \"sequential_1\"\n",
            "_________________________________________________________________\n",
            " Layer (type)                Output Shape              Param #   \n",
            "=================================================================\n",
            " conv1d_4 (Conv1D)           (None, 182, 256)          1536      \n",
            "                                                                 \n",
            " max_pooling1d_4 (MaxPoolin  (None, 91, 256)           0         \n",
            " g1D)                                                            \n",
            "                                                                 \n",
            " conv1d_5 (Conv1D)           (None, 91, 256)           327936    \n",
            "                                                                 \n",
            " max_pooling1d_5 (MaxPoolin  (None, 46, 256)           0         \n",
            " g1D)                                                            \n",
            "                                                                 \n",
            " conv1d_6 (Conv1D)           (None, 46, 128)           163968    \n",
            "                                                                 \n",
            " max_pooling1d_6 (MaxPoolin  (None, 23, 128)           0         \n",
            " g1D)                                                            \n",
            "                                                                 \n",
            " dropout_2 (Dropout)         (None, 23, 128)           0         \n",
            "                                                                 \n",
            " conv1d_7 (Conv1D)           (None, 23, 128)           82048     \n",
            "                                                                 \n",
            " conv1d_8 (Conv1D)           (None, 23, 128)           82048     \n",
            "                                                                 \n",
            " conv1d_9 (Conv1D)           (None, 23, 128)           82048     \n",
            "                                                                 \n",
            " batch_normalization (Batch  (None, 23, 128)           512       \n",
            " Normalization)                                                  \n",
            "                                                                 \n",
            " activation (Activation)     (None, 23, 128)           0         \n",
            "                                                                 \n",
            " dropout_3 (Dropout)         (None, 23, 128)           0         \n",
            "                                                                 \n",
            " conv1d_10 (Conv1D)          (None, 23, 64)            41024     \n",
            "                                                                 \n",
            " conv1d_11 (Conv1D)          (None, 23, 64)            20544     \n",
            "                                                                 \n",
            " flatten_1 (Flatten)         (None, 1472)              0         \n",
            "                                                                 \n",
            " dense_2 (Dense)             (None, 4096)              6033408   \n",
            "                                                                 \n",
            " dense_3 (Dense)             (None, 4096)              16781312  \n",
            "                                                                 \n",
            " dropout_4 (Dropout)         (None, 4096)              0         \n",
            "                                                                 \n",
            " dense_4 (Dense)             (None, 8)                 32776     \n",
            "                                                                 \n",
            "=================================================================\n",
            "Total params: 23649160 (90.21 MB)\n",
            "Trainable params: 23648904 (90.21 MB)\n",
            "Non-trainable params: 256 (1.00 KB)\n",
            "_________________________________________________________________\n"
          ]
        }
      ]
    },
    {
      "cell_type": "markdown",
      "source": [
        "Model Evaluation"
      ],
      "metadata": {
        "id": "rnJOmYhZybFb"
      }
    },
    {
      "cell_type": "code",
      "source": [
        "from sklearn.metrics import precision_score, recall_score, f1_score\n",
        "\n",
        "loss, accuracy = loaded_model.evaluate(x_test, y_test)\n",
        "\n",
        "y_pred = loaded_model.predict(x_test)\n",
        "y_pred_classes = y_pred.argmax(axis=1)\n",
        "y_true = y_test.argmax(axis=1)\n",
        "\n",
        "precision = precision_score(y_true, y_pred_classes, average='weighted')\n",
        "recall = recall_score(y_true, y_pred_classes, average='weighted')\n",
        "f1 = f1_score(y_true, y_pred_classes, average='weighted')\n",
        "\n",
        "print(f\"Test Loss: {loss:.4f}\")\n",
        "print(f\"Test Accuracy: {accuracy*100:.2f}%\")\n",
        "print(f\"Precision: {precision:.4f}\")\n",
        "print(f\"Recall: {recall:.4f}\")\n",
        "print(f\"F1 Score: {f1:.4f}\")\n",
        "\n"
      ],
      "metadata": {
        "id": "PNu4SgNKIZMu",
        "colab": {
          "base_uri": "https://localhost:8080/"
        },
        "outputId": "4db804c5-8a6b-44e6-e305-a63bc9dee8ed"
      },
      "execution_count": null,
      "outputs": [
        {
          "output_type": "stream",
          "name": "stdout",
          "text": [
            "Test Loss: 2.2512\n",
            "Test Accuracy: 62.23%\n",
            "113/113 [==============================] - 3s 25ms/step\n",
            "Precision: 0.6226\n",
            "Recall: 0.6223\n",
            "F1 Score: 0.6208\n"
          ]
        }
      ]
    },
    {
      "cell_type": "code",
      "source": [
        "from sklearn.metrics import confusion_matrix\n",
        "import seaborn as sns\n",
        "import matplotlib.pyplot as plt\n",
        "import numpy as np\n",
        "\n",
        "from google.colab import drive\n",
        "from tensorflow.keras.models import load_model\n",
        "\n",
        "drive.mount('/content/drive')\n",
        "\n",
        "model_path = '/content/drive/My Drive/model/mau.h5'\n",
        "\n",
        "model = load_model(model_path)\n",
        "y_pred = model.predict(x_test)\n",
        "y_pred_classes = np.argmax(y_pred, axis=1)\n",
        "y_true = np.argmax(y_test, axis=1)\n",
        "conf_matrix = confusion_matrix(y_true, y_pred_classes)\n",
        "\n",
        "plt.figure(figsize=(10, 8))\n",
        "sns.heatmap(conf_matrix, annot=True, fmt='d', cmap='Blues', xticklabels=label_encoder.classes_, yticklabels=label_encoder.classes_)\n",
        "plt.xlabel('Predicted')\n",
        "plt.ylabel('True')\n",
        "plt.title('Confusion Matrix')\n",
        "plt.show()\n",
        "\n",
        "\n"
      ],
      "metadata": {
        "id": "gvXWGvjwATin",
        "colab": {
          "base_uri": "https://localhost:8080/",
          "height": 753
        },
        "outputId": "d2ee56b6-9ee9-4588-c555-4dee2f401796"
      },
      "execution_count": null,
      "outputs": [
        {
          "output_type": "stream",
          "name": "stdout",
          "text": [
            "Drive already mounted at /content/drive; to attempt to forcibly remount, call drive.mount(\"/content/drive\", force_remount=True).\n",
            "8/8 [==============================] - 1s 90ms/step\n"
          ]
        },
        {
          "output_type": "display_data",
          "data": {
            "text/plain": [
              "<Figure size 1000x800 with 2 Axes>"
            ],
            "image/png": "[encoded data removed]"
          },
          "metadata": {}
        }
      ]
    },
    {
      "cell_type": "markdown",
      "source": [
        "Create Scaler file"
      ],
      "metadata": {
        "id": "W7iMb2tFw7K_"
      }
    },
    {
      "cell_type": "code",
      "source": [
        "\n",
        "import os\n",
        "import numpy as np\n",
        "import pandas as pd\n",
        "import librosa\n",
        "import librosa.display\n",
        "from sklearn.preprocessing import StandardScaler\n",
        "import pickle\n",
        "\n",
        "from google.colab import drive\n",
        "# Mount Google Drive\n",
        "drive.mount('/content/drive')\n",
        "\n",
        "# Path to the zip file in your Google Drive containing only audio files\n",
        "zip_file_path = '/content/drive/MyDrive/ravdess.zip'\n",
        "import zipfile\n",
        "\n",
        "# Directory to extract the audio dataset\n",
        "extract_dir = '/content/MyDrive/RAVDESS/ravdess'\n",
        "# Unzip the audio dataset\n",
        "with zipfile.ZipFile(zip_file_path, 'r') as zip_ref:\n",
        "    zip_ref.extractall(extract_dir)\n",
        "\n",
        "# Directory to the audio dataset\n",
        "Ravdess = '/content/MyDrive/RAVDESS/ravdess/ravdess'\n",
        "\n",
        "# List directories and files\n",
        "ravdess_directory_list = os.listdir(Ravdess)\n",
        "file_emotion = []\n",
        "file_path = []\n",
        "\n",
        "# Extract emotions and file paths\n",
        "for dir in ravdess_directory_list:\n",
        "    actor = os.listdir(os.path.join(Ravdess, dir))\n",
        "    for file in actor:\n",
        "        part = file.split('.')[0].split('-')\n",
        "        file_emotion.append(int(part[2]))\n",
        "        file_path.append(os.path.join(Ravdess, dir, file))\n",
        "\n",
        "# Create DataFrames\n",
        "emotion_df = pd.DataFrame(file_emotion, columns=['Emotions'])\n",
        "path_df = pd.DataFrame(file_path, columns=['Path'])\n",
        "ravdess_df = pd.concat([emotion_df, path_df], axis=1)\n",
        "\n",
        "# Map emotions to their respective labels\n",
        "emotion_map = {1: 'neutral', 2: 'calm', 3: 'happy', 4: 'sad', 5: 'angry', 6: 'fear', 7: 'disgust', 8: 'surprise'}\n",
        "ravdess_df.Emotions.replace(emotion_map, inplace=True)\n",
        "\n",
        "# Filter out 'calm' emotion\n",
        "ravdess_df = ravdess_df[ravdess_df.Emotions != 'calm']\n",
        "\n",
        "def extract_features(data, sample_rate):\n",
        "    result = np.array([])\n",
        "\n",
        "    # Zero Crossing Rate\n",
        "    zcr = np.mean(librosa.feature.zero_crossing_rate(y=data).T, axis=0)\n",
        "    result = np.hstack((result, zcr))\n",
        "\n",
        "    # Chroma Shift\n",
        "    stft = np.abs(librosa.stft(data))\n",
        "    chroma_stft = np.mean(librosa.feature.chroma_stft(S=stft, sr=sample_rate).T, axis=0)\n",
        "    result = np.hstack((result, chroma_stft))\n",
        "\n",
        "    # MFCC\n",
        "    mfcc = np.mean(librosa.feature.mfcc(y=data, sr=sample_rate, n_mfcc=40).T, axis=0)\n",
        "    result = np.hstack((result, mfcc))\n",
        "\n",
        "    # Root Mean Square Value\n",
        "    rms = np.mean(librosa.feature.rms(y=data).T, axis=0)\n",
        "    result = np.hstack((result, rms))\n",
        "\n",
        "    # MelSpectrogram\n",
        "    mel = np.mean(librosa.feature.melspectrogram(y=data, sr=sample_rate).T, axis=0)\n",
        "    result = np.hstack((result, mel))\n",
        "\n",
        "    return result\n",
        "\n",
        "\n",
        "x, y = [], []\n",
        "\n",
        "for path, emotion in zip(ravdess_df.Path, ravdess_df.Emotions):\n",
        "    data, sample_rate = librosa.load(path, res_type='kaiser_fast')\n",
        "\n",
        "    features = extract_features(data, sample_rate)\n",
        "\n",
        "    x.append(features)\n",
        "    y.append(emotion)\n",
        "\n",
        "x = np.array(x)\n",
        "y = np.array(y)\n",
        "\n",
        "# Normalize the feature data\n",
        "scaler = StandardScaler()\n",
        "x = scaler.fit_transform(x)\n",
        "\n",
        "scaler_path = '/content/drive/MyDrive/audio_scaler.pkl'\n",
        "with open(scaler_path, 'wb') as f:\n",
        "    pickle.dump(scaler, f)\n",
        "\n",
        "print(f'Scaler saved to {scaler_path}')\n"
      ],
      "metadata": {
        "id": "RUaUR2MEAXxQ",
        "colab": {
          "base_uri": "https://localhost:8080/"
        },
        "outputId": "2f9a5f44-f83e-4e47-9d55-ba8930ea2ad8"
      },
      "execution_count": null,
      "outputs": [
        {
          "output_type": "stream",
          "name": "stdout",
          "text": [
            "Drive already mounted at /content/drive; to attempt to forcibly remount, call drive.mount(\"/content/drive\", force_remount=True).\n",
            "Scaler saved to /content/drive/MyDrive/audio_scaler.pkl\n"
          ]
        }
      ]
    },
    {
      "cell_type": "markdown",
      "source": [
        "Test the model\n"
      ],
      "metadata": {
        "id": "GVI-ipMpyzjT"
      }
    },
    {
      "cell_type": "code",
      "source": [
        "from google.colab import drive\n",
        "from tensorflow.keras.models import load_model\n",
        "\n",
        "drive.mount('/content/drive')\n",
        "model_path = '/content/drive/My Drive/models/mau.h5'\n",
        "model = load_model(model_path)"
      ],
      "metadata": {
        "id": "QN7l1Cn9wY6t",
        "colab": {
          "base_uri": "https://localhost:8080/"
        },
        "outputId": "24a57c3d-3172-4329-d356-5fcbe4316474"
      },
      "execution_count": null,
      "outputs": [
        {
          "output_type": "stream",
          "name": "stdout",
          "text": [
            "Mounted at /content/drive\n"
          ]
        }
      ]
    },
    {
      "cell_type": "code",
      "source": [
        "#testing\n",
        "import os\n",
        "import numpy as np\n",
        "import librosa\n",
        "import librosa.display\n",
        "from sklearn.preprocessing import StandardScaler\n",
        "from tensorflow.keras.models import load_model\n",
        "import pickle\n",
        "from google.colab import drive\n",
        "from tensorflow.keras.models import load_model\n",
        "\n",
        "drive.mount('/content/drive')\n",
        "\n",
        "# Path to the trained model and scaler\n",
        "model_path = '/content/drive/MyDrive/models/mau.h5'\n",
        "scaler_path = '/content/drive/MyDrive/audio_scaler.pkl'\n",
        "\n",
        "# Load the trained classifier\n",
        "def load_classifier(model_path, scaler_path):\n",
        "    with open(scaler_path, 'rb') as f:\n",
        "        scaler = pickle.load(f)\n",
        "    classifier = load_model(model_path)\n",
        "    return scaler, classifier\n",
        "\n",
        "# Extract audio features by segment\n",
        "def extract_features_segment(audio_segment, sample_rate):\n",
        "    result = np.array([])\n",
        "\n",
        "    # Zero Crossing Rate\n",
        "    zcr = np.mean(librosa.feature.zero_crossing_rate(y=audio_segment).T, axis=0)\n",
        "    result = np.hstack((result, zcr))\n",
        "\n",
        "    # Chroma Shift\n",
        "    stft = np.abs(librosa.stft(audio_segment))\n",
        "    chroma_stft = np.mean(librosa.feature.chroma_stft(S=stft, sr=sample_rate).T, axis=0)\n",
        "    result = np.hstack((result, chroma_stft))\n",
        "\n",
        "    # MFCC\n",
        "    mfcc = np.mean(librosa.feature.mfcc(y=audio_segment, sr=sample_rate, n_mfcc=40).T, axis=0)\n",
        "    result = np.hstack((result, mfcc))\n",
        "\n",
        "    # Root Mean Square Value\n",
        "    rms = np.mean(librosa.feature.rms(y=audio_segment).T, axis=0)\n",
        "    result = np.hstack((result, rms))\n",
        "\n",
        "    # MelSpectrogram\n",
        "    mel = np.mean(librosa.feature.melspectrogram(y=audio_segment, sr=sample_rate).T, axis=0)\n",
        "    result = np.hstack((result, mel))\n",
        "\n",
        "    return result\n",
        "\n",
        "# Predict sentiment\n",
        "def predict_sentiment(audio_file, scaler, classifier, sample_rate=22050):\n",
        "\n",
        "    emotions = ['neutral', 'happy', 'sad', 'angry', 'fear', 'disgust', 'surprise']\n",
        "    audio, _ = librosa.load(audio_file, sr=sample_rate)\n",
        "    segments = librosa.effects.split(audio, top_db=20)\n",
        "    segment_sentiments = []\n",
        "    overall_sentiments = []\n",
        "\n",
        "    for start, end in segments:\n",
        "        start_ms = int((start / sample_rate) * 1000)\n",
        "        end_ms = int((end / sample_rate) * 1000)\n",
        "        segment = audio[start:end]\n",
        "        features = extract_features_segment(segment, sample_rate)\n",
        "\n",
        "        features_scaled = scaler.transform(features.reshape(1, -1))\n",
        "        sentiment = classifier.predict(features_scaled)[0]\n",
        "        sentiment_label = emotions[np.argmax(sentiment)]\n",
        "        segment_sentiments.append((start_ms, end_ms, sentiment_label))\n",
        "\n",
        "    if segment_sentiments:\n",
        "        current_start, current_end, current_sentiment = segment_sentiments[0]\n",
        "        for next_start, next_end, next_sentiment in segment_sentiments[1:]:\n",
        "            if next_sentiment == current_sentiment:\n",
        "                current_end = next_end\n",
        "            else:\n",
        "                overall_sentiments.append((current_start, current_end, current_sentiment))\n",
        "                current_start, current_end, current_sentiment = next_start, next_end, next_sentiment\n",
        "        overall_sentiments.append((current_start, current_end, current_sentiment))\n",
        "\n",
        "    return overall_sentiments\n",
        "\n",
        "scaler, classifier = load_classifier(model_path, scaler_path)\n",
        "audio_file_path = '/content/drive/MyDrive/AudioData/disgust/03-01-07-01-01-01-11.wav'\n",
        "sentiments = predict_sentiment(audio_file_path, scaler, classifier)\n",
        "print(sentiments)\n"
      ],
      "metadata": {
        "colab": {
          "base_uri": "https://localhost:8080/"
        },
        "id": "w8ZQBBW_jV1T",
        "outputId": "da1e1419-01fb-4d94-c814-52d9d2c0b610"
      },
      "execution_count": null,
      "outputs": [
        {
          "output_type": "stream",
          "name": "stdout",
          "text": [
            "Drive already mounted at /content/drive; to attempt to forcibly remount, call drive.mount(\"/content/drive\", force_remount=True).\n",
            "1/1 [==============================] - 0s 154ms/step\n",
            "1/1 [==============================] - 0s 32ms/step\n",
            "[(1044, 2275, 'angry'), (2321, 2693, 'disgust')]\n"
          ]
        }
      ]
    },
    {
      "cell_type": "markdown",
      "source": [
        "Get the sentiment of audio in frame wise"
      ],
      "metadata": {
        "id": "kVbIyUVrlfoe"
      }
    },
    {
      "cell_type": "code",
      "source": [
        "import os\n",
        "import numpy as np\n",
        "import librosa\n",
        "import librosa.display\n",
        "from sklearn.preprocessing import StandardScaler\n",
        "from tensorflow.keras.models import load_model\n",
        "import pickle\n",
        "from google.colab import drive\n",
        "from tensorflow.keras.models import load_model\n",
        "\n",
        "drive.mount('/content/drive')\n",
        "\n",
        "model_path = '/content/drive/MyDrive/models/mau.h5'\n",
        "scaler_path = '/content/drive/MyDrive/audio_scaler.pkl'\n",
        "\n",
        "# Load the trained classifier\n",
        "def load_classifier(model_path, scaler_path):\n",
        "    with open(scaler_path, 'rb') as f:\n",
        "        scaler = pickle.load(f)\n",
        "    classifier = load_model(model_path)\n",
        "    return scaler, classifier\n",
        "\n",
        "# Extract audio features by segment\n",
        "def extract_features_segment(audio_segment, sample_rate):\n",
        "    result = np.array([])\n",
        "\n",
        "    # Zero Crossing Rate\n",
        "    zcr = np.mean(librosa.feature.zero_crossing_rate(y=audio_segment).T, axis=0)\n",
        "    result = np.hstack((result, zcr))\n",
        "\n",
        "    # Chroma Shift\n",
        "    stft = np.abs(librosa.stft(audio_segment))\n",
        "    chroma_stft = np.mean(librosa.feature.chroma_stft(S=stft, sr=sample_rate).T, axis=0)\n",
        "    result = np.hstack((result, chroma_stft))\n",
        "\n",
        "    # MFCC\n",
        "    mfcc = np.mean(librosa.feature.mfcc(y=audio_segment, sr=sample_rate, n_mfcc=40).T, axis=0)\n",
        "    result = np.hstack((result, mfcc))\n",
        "\n",
        "    # Root Mean Square Value\n",
        "    rms = np.mean(librosa.feature.rms(y=audio_segment).T, axis=0)\n",
        "    result = np.hstack((result, rms))\n",
        "\n",
        "    # MelSpectrogram\n",
        "    mel = np.mean(librosa.feature.melspectrogram(y=audio_segment, sr=sample_rate).T, axis=0)\n",
        "    result = np.hstack((result, mel))\n",
        "\n",
        "    return result\n",
        "\n",
        "# Predict sentiment\n",
        "def predict_sentiment(audio_file, scaler, classifier, sample_rate=22050):\n",
        "    emotions = ['neutral', 'happy', 'sad', 'angry', 'fearful', 'disgust', 'surprised']\n",
        "    audio, _ = librosa.load(audio_file, sr=sample_rate)\n",
        "    duration = librosa.get_duration(y=audio, sr=sample_rate)\n",
        "    total_seconds = int(np.ceil(duration))\n",
        "    sentiments = []\n",
        "\n",
        "    for second in range(total_seconds):\n",
        "        start_sample = second * sample_rate\n",
        "        end_sample = start_sample + sample_rate\n",
        "\n",
        "        if end_sample > len(audio):\n",
        "            end_sample = len(audio)\n",
        "\n",
        "        segment = audio[start_sample:end_sample]\n",
        "\n",
        "        if len(segment) > 0:\n",
        "            features = extract_features_segment(segment, sample_rate)\n",
        "            features_scaled = scaler.transform(features.reshape(1, -1))\n",
        "            sentiment = classifier.predict(features_scaled)[0]\n",
        "            sentiment_label = emotions[np.argmax(sentiment)]\n",
        "        else:\n",
        "            sentiment_label = None\n",
        "\n",
        "        sentiments.append(sentiment_label)\n",
        "\n",
        "    return sentiments, duration\n",
        "\n",
        "# Load classifier and scaler\n",
        "scaler, classifier = load_classifier(model_path, scaler_path)\n",
        "\n",
        "# Path to the audio file in your Google Drive\n",
        "audio_file_path = '/content/drive/MyDrive/AudioData/disgust/03-01-07-01-01-01-11.wav'\n",
        "\n",
        "# Predict sentiments\n",
        "sentiments, duration = predict_sentiment(audio_file_path, scaler, classifier)\n",
        "\n",
        "# Print results\n",
        "print(\"Duration of the audio file:\", duration, \"seconds\")\n",
        "print(\"Sentiments:\", sentiments)\n"
      ],
      "metadata": {
        "colab": {
          "base_uri": "https://localhost:8080/"
        },
        "id": "nPk_c8-VjVaQ",
        "outputId": "2421b996-4953-4c94-f608-9ff73adcd0d9"
      },
      "execution_count": null,
      "outputs": [
        {
          "output_type": "stream",
          "name": "stdout",
          "text": [
            "Drive already mounted at /content/drive; to attempt to forcibly remount, call drive.mount(\"/content/drive\", force_remount=True).\n",
            "1/1 [==============================] - 0s 136ms/step\n",
            "1/1 [==============================] - 0s 36ms/step\n",
            "1/1 [==============================] - 0s 30ms/step\n",
            "1/1 [==============================] - 0s 29ms/step\n",
            "Duration of the audio file: 3.670340136054422 seconds\n",
            "Sentiments: ['disgust', 'angry', 'disgust', 'disgust']\n"
          ]
        }
      ]
    },
    {
      "cell_type": "code",
      "source": [
        "import os\n",
        "import numpy as np\n",
        "import librosa\n",
        "import librosa.display\n",
        "from sklearn.preprocessing import StandardScaler\n",
        "from tensorflow.keras.models import load_model\n",
        "import pickle\n",
        "from google.colab import drive\n",
        "\n",
        "# Mount Google Drive\n",
        "drive.mount('/content/drive')\n",
        "\n",
        "# Paths to the trained model and scaler\n",
        "model_path = '/content/drive/MyDrive/models/mau.h5'\n",
        "scaler_path = '/content/drive/MyDrive/audio_scaler.pkl'\n",
        "\n",
        "# Load the trained classifier\n",
        "def load_classifier(model_path, scaler_path):\n",
        "    with open(scaler_path, 'rb') as f:\n",
        "        scaler = pickle.load(f)\n",
        "    classifier = load_model(model_path)\n",
        "    return scaler, classifier\n",
        "\n",
        "# Extract audio features by segment\n",
        "def extract_features_segment(audio_segment, sample_rate):\n",
        "    result = np.array([])\n",
        "\n",
        "    # Zero Crossing Rate\n",
        "    zcr = np.mean(librosa.feature.zero_crossing_rate(y=audio_segment).T, axis=0)\n",
        "    result = np.hstack((result, zcr))\n",
        "\n",
        "    # Chroma Shift\n",
        "    stft = np.abs(librosa.stft(audio_segment))\n",
        "    chroma_stft = np.mean(librosa.feature.chroma_stft(S=stft, sr=sample_rate).T, axis=0)\n",
        "    result = np.hstack((result, chroma_stft))\n",
        "\n",
        "    # MFCC\n",
        "    mfcc = np.mean(librosa.feature.mfcc(y=audio_segment, sr=sample_rate, n_mfcc=40).T, axis=0)\n",
        "    result = np.hstack((result, mfcc))\n",
        "\n",
        "    # Root Mean Square Value\n",
        "    rms = np.mean(librosa.feature.rms(y=audio_segment).T, axis=0)\n",
        "    result = np.hstack((result, rms))\n",
        "\n",
        "    # MelSpectrogram\n",
        "    mel = np.mean(librosa.feature.melspectrogram(y=audio_segment, sr=sample_rate).T, axis=0)\n",
        "    result = np.hstack((result, mel))\n",
        "\n",
        "    return result\n",
        "\n",
        "# Predict sentiment\n",
        "def predict_sentiment(audio_file, scaler, classifier, sample_rate=22050):\n",
        "    emotions = ['neutral', 'happy', 'sad', 'angry', 'fearful', 'disgust', 'surprised']\n",
        "    audio, _ = librosa.load(audio_file, sr=sample_rate)\n",
        "    duration = librosa.get_duration(y=audio, sr=sample_rate)\n",
        "    total_seconds = int(np.ceil(duration))\n",
        "    sentiments = []\n",
        "\n",
        "    previous_sentiment_label = None\n",
        "\n",
        "    for second in range(total_seconds):\n",
        "        start_sample = second * sample_rate\n",
        "        end_sample = start_sample + sample_rate\n",
        "\n",
        "        if end_sample > len(audio):\n",
        "            end_sample = len(audio)\n",
        "\n",
        "        segment = audio[start_sample:end_sample]\n",
        "\n",
        "        if len(segment) > 0:\n",
        "            features = extract_features_segment(segment, sample_rate)\n",
        "            features_scaled = scaler.transform(features.reshape(1, -1))\n",
        "            sentiment = classifier.predict(features_scaled)[0]\n",
        "            sentiment_label = emotions[np.argmax(sentiment)]\n",
        "            previous_sentiment_label = sentiment_label\n",
        "        else:\n",
        "            sentiment_label = previous_sentiment_label\n",
        "\n",
        "        sentiments.append(sentiment_label)\n",
        "\n",
        "    return sentiments, duration\n",
        "\n",
        "# Load classifier and scaler\n",
        "scaler, classifier = load_classifier(model_path, scaler_path)\n",
        "\n",
        "# Path to the audio file in your Google Drive\n",
        "audio_file_path = '/content/drive/MyDrive/AudioData/disgust/03-01-07-01-01-01-11.wav'\n",
        "\n",
        "# Predict sentiments\n",
        "sentiments, duration = predict_sentiment(audio_file_path, scaler, classifier)\n",
        "\n",
        "# Print results\n",
        "print(\"Duration of the audio file:\", duration, \"seconds\")\n",
        "print(\"Sentiments:\", sentiments)\n"
      ],
      "metadata": {
        "colab": {
          "base_uri": "https://localhost:8080/"
        },
        "id": "uUS7leCrVdjE",
        "outputId": "169838f0-e089-4291-e568-28d0f387c031"
      },
      "execution_count": null,
      "outputs": [
        {
          "output_type": "stream",
          "name": "stdout",
          "text": [
            "Drive already mounted at /content/drive; to attempt to forcibly remount, call drive.mount(\"/content/drive\", force_remount=True).\n"
          ]
        },
        {
          "output_type": "stream",
          "name": "stderr",
          "text": [
            "WARNING:tensorflow:5 out of the last 12 calls to <function Model.make_predict_function.<locals>.predict_function at 0x7e4c725972e0> triggered tf.function retracing. Tracing is expensive and the excessive number of tracings could be due to (1) creating @tf.function repeatedly in a loop, (2) passing tensors with different shapes, (3) passing Python objects instead of tensors. For (1), please define your @tf.function outside of the loop. For (2), @tf.function has reduce_retracing=True option that can avoid unnecessary retracing. For (3), please refer to https://www.tensorflow.org/guide/function#controlling_retracing and https://www.tensorflow.org/api_docs/python/tf/function for  more details.\n"
          ]
        },
        {
          "output_type": "stream",
          "name": "stdout",
          "text": [
            "1/1 [==============================] - 0s 172ms/step\n",
            "1/1 [==============================] - 0s 33ms/step\n",
            "1/1 [==============================] - 0s 36ms/step\n",
            "1/1 [==============================] - 0s 32ms/step\n",
            "Duration of the audio file: 3.670340136054422 seconds\n",
            "Sentiments: ['disgust', 'angry', 'disgust', 'disgust']\n"
          ]
        }
      ]
    }
  ]
}